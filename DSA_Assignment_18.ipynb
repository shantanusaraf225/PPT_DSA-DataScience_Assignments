{
 "cells": [
  {
   "cell_type": "markdown",
   "id": "7ad73033",
   "metadata": {},
   "source": [
    "1. **Merge Intervals**\n",
    "\n",
    "Given an array of `intervals` where `intervals[i] = [starti, endi]`, merge all overlapping intervals, and return *an array of the non-overlapping intervals that cover all the intervals in the input*.\n",
    "\n",
    "**Example 1:**\n",
    "Input: intervals = [[1,3],[2,6],[8,10],[15,18]]\n",
    "Output: [[1,6],[8,10],[15,18]]\n",
    "Explanation: Since intervals [1,3] and [2,6] overlap, merge them into [1,6].\n",
    "\n",
    "**Example 2:**\n",
    "Input: intervals = [[1,4],[4,5]]\n",
    "Output: [[1,5]]\n",
    "Explanation: Intervals [1,4] and [4,5] are considered overlapping.\n",
    "\n",
    "**Constraints:**\n",
    "\n",
    "- `1 <= intervals.length <= 10000`\n",
    "- `intervals[i].length == 2`\n",
    "- `0 <= starti <= endi <= 10000`"
   ]
  },
  {
   "cell_type": "code",
   "execution_count": 41,
   "id": "5f22051f",
   "metadata": {},
   "outputs": [
    {
     "name": "stdout",
     "output_type": "stream",
     "text": [
      "[[1, 5]]\n"
     ]
    }
   ],
   "source": [
    "# Q1 solution:-\n",
    "\n",
    "def merge(intervals):\n",
    "    # Sort the intervals based on the start time\n",
    "    intervals.sort(key=lambda x: x[0])\n",
    "\n",
    "    merged = []\n",
    "    for interval in intervals:\n",
    "        # If the merged list is empty or the current interval does not overlap with the previous one\n",
    "        if not merged or interval[0] > merged[-1][1]:\n",
    "            merged.append(interval)\n",
    "        else:\n",
    "            # Merge the intervals by updating the end time of the last merged interval\n",
    "            merged[-1][1] = max(merged[-1][1], interval[1])\n",
    "\n",
    "    return merged\n",
    "\n",
    "\n",
    "# Example\n",
    "intervals2 = [[1, 4], [4, 5]]\n",
    "result2 = merge(intervals2)\n",
    "print(result2)"
   ]
  },
  {
   "cell_type": "markdown",
   "id": "bcf78ecb",
   "metadata": {},
   "source": [
    "2. **Sort Colors**\n",
    "\n",
    "Given an array `nums` with `n` objects colored red, white, or blue, sort them **[in-place](https://en.wikipedia.org/wiki/In-place_algorithm)** so that objects of the same color are adjacent, with the colors in the order red, white, and blue.\n",
    "\n",
    "We will use the integers `0`, `1`, and `2` to represent the color red, white, and blue, respectively.\n",
    "\n",
    "You must solve this problem without using the library's sort function.\n",
    "\n",
    "**Example 1:**\n",
    "Input: nums = [2,0,2,1,1,0]\n",
    "Output: [0,0,1,1,2,2]\n",
    "\n",
    "**Example 2:**\n",
    "Input: nums = [2,0,1]\n",
    "Output: [0,1,2]\n",
    "\n",
    "**Constraints:**\n",
    "\n",
    "- `n == nums.length`\n",
    "- `1 <= n <= 300`\n",
    "- `nums[i]` is either `0`, `1`, or `2`."
   ]
  },
  {
   "cell_type": "code",
   "execution_count": 63,
   "id": "e26193de",
   "metadata": {},
   "outputs": [
    {
     "name": "stdout",
     "output_type": "stream",
     "text": [
      "[0, 0, 1, 1, 2, 2]\n"
     ]
    }
   ],
   "source": [
    "# Q2 solution:-\n",
    "\n",
    "def sortColors(nums):\n",
    "    # Initialize three pointers for the boundaries of red, white, and blue\n",
    "    red, white, blue = 0, 0, len(nums) - 1\n",
    "\n",
    "    while white <= blue:\n",
    "        if nums[white] == 0:\n",
    "            # Swap the current element with the red boundary\n",
    "            nums[red], nums[white] = nums[white], nums[red]\n",
    "            red += 1\n",
    "            white += 1\n",
    "        elif nums[white] == 1:\n",
    "            # Move the white boundary forward\n",
    "            white += 1\n",
    "        else:\n",
    "            # Swap the current element with the blue boundary\n",
    "            nums[white], nums[blue] = nums[blue], nums[white]\n",
    "            blue -= 1\n",
    "\n",
    "# Example\n",
    "nums = [2, 0, 2, 1, 1, 0]\n",
    "sortColors(nums)\n",
    "print(nums)"
   ]
  },
  {
   "cell_type": "markdown",
   "id": "ae6f4d88",
   "metadata": {},
   "source": [
    "**First Bad Version Solution**\n",
    "\n",
    "You are a product manager and currently leading a team to develop a new product. Unfortunately, the latest version of your product fails the quality check. Since each version is developed based on the previous version, all the versions after a bad version are also bad.\n",
    "\n",
    "Suppose you have `n` versions `[1, 2, ..., n]` and you want to find out the first bad one, which causes all the following ones to be bad.\n",
    "\n",
    "You are given an API `bool isBadVersion(version)` which returns whether `version` is bad. Implement a function to find the first bad version. You should minimize the number of calls to the API.\n",
    "\n",
    "**Example 1:**\n",
    "Input: n = 5, bad = 4\n",
    "Output: 4\n",
    "Explanation:\n",
    "call isBadVersion(3) -> false\n",
    "call isBadVersion(5) -> true\n",
    "call isBadVersion(4) -> true\n",
    "Then 4 is the first bad version.\n",
    "\n",
    "**Example 2:**\n",
    "Input: n = 1, bad = 1\n",
    "Output: 1\n",
    "\n",
    "**Constraints:**\n",
    "\n",
    "- `1 <= bad <= n <= 2^31 - 1`"
   ]
  },
  {
   "cell_type": "code",
   "execution_count": 80,
   "id": "d729e1be",
   "metadata": {},
   "outputs": [
    {
     "name": "stdout",
     "output_type": "stream",
     "text": [
      "4\n"
     ]
    }
   ],
   "source": [
    "# Q3 solution:-\n",
    "\n",
    "def BadVersion(n, bad):\n",
    "    left = 1\n",
    "    right = n\n",
    "\n",
    "    while left < right:\n",
    "        mid = left + (right - left) // 2\n",
    "        if mid >= bad:\n",
    "            right = mid\n",
    "        else:\n",
    "            left = mid + 1\n",
    "\n",
    "    return left\n",
    "\n",
    "# Example\n",
    "n = 5\n",
    "bad = 4\n",
    "print(BadVersion(n, bad))"
   ]
  },
  {
   "cell_type": "markdown",
   "id": "d96fcd0a",
   "metadata": {},
   "source": [
    "4. **Maximum Gap**\n",
    "\n",
    "Given an integer array `nums`, return *the maximum difference between two successive elements in its sorted form*. If the array contains less than two elements, return `0`.\n",
    "\n",
    "You must write an algorithm that runs in linear time and uses linear extra space.\n",
    "\n",
    "**Example 1:**\n",
    "Input: nums = [3,6,9,1]\n",
    "Output: 3\n",
    "Explanation: The sorted form of the array is [1,3,6,9], either (3,6) or (6,9) has the maximum difference 3.\n",
    "\n",
    "**Example 2:**\n",
    "Input: nums = [10]\n",
    "Output: 0\n",
    "Explanation: The array contains less than 2 elements, therefore return 0.\n",
    "\n",
    "**Constraints:**\n",
    "\n",
    "- `1 <= nums.length <= 10^5`\n",
    "- `0 <= nums[i] <= 10^9`"
   ]
  },
  {
   "cell_type": "code",
   "execution_count": 116,
   "id": "f2b93edf",
   "metadata": {},
   "outputs": [
    {
     "name": "stdout",
     "output_type": "stream",
     "text": [
      "3\n",
      "0\n"
     ]
    }
   ],
   "source": [
    "# Q4 solution:-\n",
    "\n",
    "def radixSort(nums):\n",
    "    # Find the maximum number in the array\n",
    "    max_num = max(nums)\n",
    "\n",
    "    # Perform counting sort for each digit, starting from the least significant digit\n",
    "    exp = 1\n",
    "    while max_num // exp > 0:\n",
    "        countingSort(nums, exp)\n",
    "        exp *= 10\n",
    "\n",
    "def countingSort(nums, exp):\n",
    "    n = len(nums)\n",
    "    output = [0] * n\n",
    "    count = [0] * 10\n",
    "\n",
    "    # Count the occurrences of each digit\n",
    "    for i in range(n):\n",
    "        index = nums[i] // exp\n",
    "        count[index % 10] += 1\n",
    "\n",
    "    # Calculate the cumulative count\n",
    "    for i in range(1, 10):\n",
    "        count[i] += count[i-1]\n",
    "\n",
    "    # Build the sorted array\n",
    "    i = n - 1\n",
    "    while i >= 0:\n",
    "        index = nums[i] // exp\n",
    "        output[count[index % 10] - 1] = nums[i]\n",
    "        count[index % 10] -= 1\n",
    "        i -= 1\n",
    "\n",
    "    # Copy the sorted array back to the original array\n",
    "    for i in range(n):\n",
    "        nums[i] = output[i]\n",
    "\n",
    "def maximumGap(nums):\n",
    "    if len(nums) < 2:\n",
    "        return 0\n",
    "\n",
    "    # Perform radix sort on the array\n",
    "    radixSort(nums)\n",
    "\n",
    "    # Find the maximum gap between successive elements\n",
    "    max_gap = 0\n",
    "    for i in range(1, len(nums)):\n",
    "        max_gap = max(max_gap, nums[i] - nums[i-1])\n",
    "\n",
    "    return max_gap\n",
    "\n",
    "\n",
    "# Example 1\n",
    "nums1 = [3, 6, 9, 1]\n",
    "print(maximumGap(nums1))\n",
    "\n",
    "# Example 2\n",
    "nums2 = [10]\n",
    "print(maximumGap(nums2))"
   ]
  },
  {
   "cell_type": "markdown",
   "id": "f3267764",
   "metadata": {},
   "source": [
    "5. **Contains Duplicate**\n",
    "\n",
    "Given an integer array `nums`, return `true` if any value appears **at least twice** in the array, and return `false` if every element is distinct.\n",
    "\n",
    "**Example 1:**\n",
    "Input: nums = [1,2,3,1]\n",
    "Output: true\n",
    "\n",
    "**Example 2:**\n",
    "Input: nums = [1,2,3,4]\n",
    "Output: false\n",
    "\n",
    "**Example 3:**\n",
    "Input: nums = [1,1,1,3,3,4,3,2,4,2]\n",
    "Output: true\n",
    "\n",
    "**Constraints:**\n",
    "\n",
    "- `1 <= nums.length <= 10^5`\n",
    "- `109 <= nums[i] <= 10^9`"
   ]
  },
  {
   "cell_type": "code",
   "execution_count": 121,
   "id": "b425aae7",
   "metadata": {},
   "outputs": [
    {
     "name": "stdout",
     "output_type": "stream",
     "text": [
      "False\n"
     ]
    }
   ],
   "source": [
    "# Q5 solution:-\n",
    "\n",
    "def containsDuplicate(nums):\n",
    "    num_set = set()\n",
    "    for num in nums:\n",
    "        if num in num_set:\n",
    "            return True\n",
    "        num_set.add(num)\n",
    "    return False\n",
    "\n",
    "\n",
    "# Example\n",
    "nums = [1, 2, 3, 4]\n",
    "print(containsDuplicate(nums))"
   ]
  },
  {
   "cell_type": "markdown",
   "id": "9a89cf95",
   "metadata": {},
   "source": [
    "6. **Minimum Number of Arrows to Burst Balloons**\n",
    "\n",
    "There are some spherical balloons taped onto a flat wall that represents the XY-plane. The balloons are represented as a 2D integer array `points` where `points[i] = [xstart, xend]` denotes a balloon whose **horizontal diameter** stretches between `xstart` and `xend`. You do not know the exact y-coordinates of the balloons.\n",
    "\n",
    "Arrows can be shot up **directly vertically** (in the positive y-direction) from different points along the x-axis. A balloon with `xstart` and `xend` is **burst** by an arrow shot at `x` if `xstart <= x <= xend`. There is **no limit** to the number of arrows that can be shot. A shot arrow keeps traveling up infinitely, bursting any balloons in its path.\n",
    "\n",
    "Given the array `points`, return *the **minimum** number of arrows that must be shot to burst all balloons*.\n",
    "\n",
    "**Example 1:**\n",
    "Input: points = [[10,16],[2,8],[1,6],[7,12]]\n",
    "Output: 2\n",
    "Explanation: The balloons can be burst by 2 arrows:\n",
    "- Shoot an arrow at x = 6, bursting the balloons [2,8] and [1,6].\n",
    "- Shoot an arrow at x = 11, bursting the balloons [10,16] and [7,12].\n",
    "\n",
    "**Example 2:**\n",
    "Input: points = [[1,2],[3,4],[5,6],[7,8]]\n",
    "Output: 4\n",
    "Explanation: One arrow needs to be shot for each balloon for a total of 4 arrows.\n",
    "\n",
    "**Example 3:**\n",
    "Input: points = [[1,2],[2,3],[3,4],[4,5]]\n",
    "Output: 2\n",
    "Explanation: The balloons can be burst by 2 arrows:\n",
    "- Shoot an arrow at x = 2, bursting the balloons [1,2] and [2,3].\n",
    "- Shoot an arrow at x = 4, bursting the balloons [3,4] and [4,5].\n",
    "\n",
    "**Constraints:**\n",
    "\n",
    "- `1 <= points.length <= 10^5`\n",
    "- `points[i].length == 2`\n",
    "- `231 <= xstart < xend <= 2^31 - 1`"
   ]
  },
  {
   "cell_type": "code",
   "execution_count": 163,
   "id": "33622ce0",
   "metadata": {},
   "outputs": [
    {
     "name": "stdout",
     "output_type": "stream",
     "text": [
      "4\n"
     ]
    }
   ],
   "source": [
    "# Q6 solution:-\n",
    "\n",
    "def MinArrowShots(points):\n",
    "    if not points:\n",
    "        return 0\n",
    "    \n",
    "    # Sort the balloons based on end points\n",
    "    points.sort(key=lambda x: x[1])\n",
    "    \n",
    "    arrows = 1\n",
    "    curr_end = points[0][1]\n",
    "    \n",
    "    for i in range(1, len(points)):\n",
    "        if points[i][0] > curr_end:\n",
    "            # Balloon cannot be burst with current arrow\n",
    "            arrows += 1\n",
    "            curr_end = points[i][1]\n",
    "    \n",
    "    return arrows\n",
    "\n",
    "\n",
    "# Example\n",
    "points2 = [[1, 2], [3, 4], [5, 6], [7, 8]]\n",
    "print(MinArrowShots(points2))\n"
   ]
  },
  {
   "cell_type": "markdown",
   "id": "628324c8",
   "metadata": {},
   "source": [
    "7. **Longest Increasing Subsequence**\n",
    "\n",
    "Given an integer array `nums`, return *the length of the longest **strictly increasing***\n",
    "\n",
    "***subsequence***\n",
    "\n",
    ".\n",
    "\n",
    "**Example 1:**\n",
    "Input: nums = [10,9,2,5,3,7,101,18]\n",
    "Output: 4\n",
    "Explanation: The longest increasing subsequence is [2,3,7,101], therefore the length is 4.\n",
    "\n",
    "**Example 2:**\n",
    "Input: nums = [0,1,0,3,2,3]\n",
    "Output: 4\n",
    "\n",
    "**Example 3:**\n",
    "Input: nums = [7,7,7,7,7,7,7]\n",
    "Output: 1\n",
    "\n",
    "**Constraints:**\n",
    "\n",
    "- `1 <= nums.length <= 2500`\n",
    "- `-10^4 <= nums[i] <= 10^4`"
   ]
  },
  {
   "cell_type": "code",
   "execution_count": 202,
   "id": "96df7c7b",
   "metadata": {},
   "outputs": [
    {
     "name": "stdout",
     "output_type": "stream",
     "text": [
      "4\n",
      "1\n"
     ]
    }
   ],
   "source": [
    "# Q7 solution:-\n",
    "\n",
    "def lengthOfLIS(nums):\n",
    "    n = len(nums)\n",
    "    if n == 0:\n",
    "        return 0\n",
    "    \n",
    "    dp = [1] * n\n",
    "    max_length = 1\n",
    "    \n",
    "    for i in range(1, n):\n",
    "        for j in range(i):\n",
    "            if nums[i] > nums[j]:\n",
    "                dp[i] = max(dp[i], dp[j] + 1)\n",
    "        \n",
    "        max_length = max(max_length, dp[i])\n",
    "    \n",
    "    return max_length\n",
    "\n",
    "\n",
    "# Example\n",
    "nums = [0, 1, 0, 3, 2, 3]\n",
    "print(lengthOfLIS(nums))\n",
    "\n",
    "# Example 2\n",
    "nums2 = [7, 7, 7, 7, 7, 7, 7]\n",
    "print(lengthOfLIS(nums2))"
   ]
  },
  {
   "cell_type": "markdown",
   "id": "87e8c89c",
   "metadata": {},
   "source": [
    "8. **132 Pattern**\n",
    "\n",
    "Given an array of `n` integers `nums`, a **132 pattern** is a subsequence of three integers `nums[i]`, `nums[j]` and `nums[k]` such that `i < j < k` and `nums[i] < nums[k] < nums[j]`.\n",
    "\n",
    "Return `true` *if there is a **132 pattern** in* `nums`*, otherwise, return* `false`*.*\n",
    "\n",
    "**Example 1:**\n",
    "Input: nums = [1,2,3,4]\n",
    "Output: false\n",
    "Explanation: There is no 132 pattern in the sequence.\n",
    "\n",
    "**Example 2:**\n",
    "Input: nums = [3,1,4,2]\n",
    "Output: true\n",
    "Explanation: There is a 132 pattern in the sequence: [1, 4, 2].\n",
    "\n",
    "**Example 3:**\n",
    "Input: nums = [-1,3,2,0]\n",
    "Output: true\n",
    "Explanation: There are three 132 patterns in the sequence: [-1, 3, 2], [-1, 3, 0] and [-1, 2, 0].\n",
    "\n",
    "**Constraints:**\n",
    "- `n == nums.length`\n",
    "- `1 <= n <= 2 * 10^5`\n",
    "- `-10^9 <= nums[i] <= 10^9`"
   ]
  },
  {
   "cell_type": "code",
   "execution_count": 233,
   "id": "98b77d22",
   "metadata": {},
   "outputs": [
    {
     "name": "stdout",
     "output_type": "stream",
     "text": [
      "False\n",
      "True\n"
     ]
    }
   ],
   "source": [
    "# Q8 solution:-\n",
    "\n",
    "def pattern132(nums):\n",
    "    stack = []\n",
    "    max_k = float('-inf')\n",
    "    \n",
    "    for i in range(len(nums) - 1, -1, -1):\n",
    "        if nums[i] < max_k:\n",
    "            return True\n",
    "        \n",
    "        while stack and stack[-1] < nums[i]:\n",
    "            max_k = max(max_k, stack.pop())\n",
    "        \n",
    "        stack.append(nums[i])\n",
    "    \n",
    "    return False\n",
    "\n",
    "\n",
    "# Example 1\n",
    "nums1 = [1, 2, 3, 4]\n",
    "print(pattern132(nums1))\n",
    "\n",
    "# Example 2\n",
    "nums2 = [3, 1, 4, 2]\n",
    "print(pattern132(nums2))\n"
   ]
  },
  {
   "cell_type": "code",
   "execution_count": null,
   "id": "02fbcb81",
   "metadata": {},
   "outputs": [],
   "source": []
  }
 ],
 "metadata": {
  "kernelspec": {
   "display_name": "Python 3 (ipykernel)",
   "language": "python",
   "name": "python3"
  },
  "language_info": {
   "codemirror_mode": {
    "name": "ipython",
    "version": 3
   },
   "file_extension": ".py",
   "mimetype": "text/x-python",
   "name": "python",
   "nbconvert_exporter": "python",
   "pygments_lexer": "ipython3",
   "version": "3.9.7"
  }
 },
 "nbformat": 4,
 "nbformat_minor": 5
}
