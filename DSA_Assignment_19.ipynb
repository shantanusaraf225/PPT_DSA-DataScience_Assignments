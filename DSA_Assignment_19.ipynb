{
 "cells": [
  {
   "cell_type": "markdown",
   "id": "3deae67a",
   "metadata": {},
   "source": [
    "1. **Merge k Sorted Lists**\n",
    "\n",
    "You are given an array of `k` linked-lists `lists`, each linked-list is sorted in ascending order.\n",
    "\n",
    "*Merge all the linked-lists into one sorted linked-list and return it.*\n",
    "\n",
    "**Example 1:**\n",
    "Input: lists = [[1,4,5],[1,3,4],[2,6]]\n",
    "Output: [1,1,2,3,4,4,5,6]\n",
    "Explanation: The linked-lists are:\n",
    "[\n",
    "  1->4->5,\n",
    "  1->3->4,\n",
    "  2->6\n",
    "]\n",
    "merging them into one sorted list:\n",
    "1->1->2->3->4->4->5->6\n",
    "\n",
    "**Example 2:**\n",
    "Input: lists = []\n",
    "Output: []\n",
    "\n",
    "**Example 3:**\n",
    "Input: lists = [[]]\n",
    "Output: []\n",
    "\n",
    "**Constraints:**\n",
    "- `k == lists.length`\n",
    "- `0 <= k <= 10000`\n",
    "- `0 <= lists[i].length <= 500`\n",
    "- `-10000 <= lists[i][j] <= 10000`\n",
    "- `lists[i]` is sorted in **ascending order**.\n",
    "- The sum of `lists[i].length` will not exceed `10000`.\n"
   ]
  },
  {
   "cell_type": "code",
   "execution_count": null,
   "id": "a32ae84b",
   "metadata": {},
   "outputs": [],
   "source": [
    "# Q1 solution:-"
   ]
  },
  {
   "cell_type": "markdown",
   "id": "c97fc4c3",
   "metadata": {},
   "source": [
    "2. **Count of Smaller Numbers After Self**\n",
    "\n",
    "Given an integer array `nums`, return *an integer array* `counts` *where* `counts[i]` *is the number of smaller elements to the right of* `nums[i]`.\n",
    "\n",
    "**Example 1:**\n",
    "Input: nums = [5,2,6,1]\n",
    "Output: [2,1,1,0]\n",
    "Explanation:\n",
    "To the right of 5 there are2 smaller elements (2 and 1).\n",
    "To the right of 2 there is only1 smaller element (1).\n",
    "To the right of 6 there is1 smaller element (1).\n",
    "To the right of 1 there is0 smaller element.\n",
    "\n",
    "**Example 2:**\n",
    "Input: nums = [-1]\n",
    "Output: [0]\n",
    "\n",
    "**Example 3:**\n",
    "Input: nums = [-1,-1]\n",
    "Output: [0,0]\n",
    "\n",
    "**Constraints:**\n",
    "- `1 <= nums.length <= 100000`\n",
    "- `-10000 <= nums[i] <= 10000`\n"
   ]
  },
  {
   "cell_type": "code",
   "execution_count": 46,
   "id": "b04ab7c6",
   "metadata": {},
   "outputs": [
    {
     "name": "stdout",
     "output_type": "stream",
     "text": [
      "[2, 1, 1, 0]\n"
     ]
    }
   ],
   "source": [
    "# Q2 solution:-\n",
    "\n",
    "def countSmaller(nums):\n",
    "    def mergeSort(arr, start, end):\n",
    "        if start >= end:\n",
    "            return\n",
    "        \n",
    "        mid = (start + end) // 2\n",
    "\n",
    "        mergeSort(arr, start, mid)\n",
    "        mergeSort(arr, mid + 1, end)\n",
    "\n",
    "        merge(arr, start, mid, end)\n",
    "\n",
    "    def merge(arr, start, mid, end):\n",
    "        i, j = start, mid + 1\n",
    "        merged = []\n",
    "        count = 0\n",
    "\n",
    "        while i <= mid and j <= end:\n",
    "            if arr[i][0] <= arr[j][0]:\n",
    "                merged.append(arr[i])\n",
    "                counts[arr[i][1]] += count\n",
    "                i += 1\n",
    "            else:\n",
    "                merged.append(arr[j])\n",
    "                count += 1\n",
    "                j += 1\n",
    "\n",
    "        while i <= mid:\n",
    "            merged.append(arr[i])\n",
    "            counts[arr[i][1]] += count\n",
    "            i += 1\n",
    "\n",
    "        while j <= end:\n",
    "            merged.append(arr[j])\n",
    "            j += 1\n",
    "\n",
    "        arr[start:end+1] = merged\n",
    "\n",
    "    n = len(nums)\n",
    "    counts = [0] * n\n",
    "    indexedNums = [(num, i) for i, num in enumerate(nums)]\n",
    "    \n",
    "    mergeSort(indexedNums, 0, n - 1)\n",
    "\n",
    "    return counts\n",
    "\n",
    "\n",
    "\n",
    "# Example\n",
    "nums = [5, 2, 6, 1]\n",
    "result = countSmaller(nums)\n",
    "print(result)"
   ]
  },
  {
   "cell_type": "markdown",
   "id": "5b2c03fe",
   "metadata": {},
   "source": [
    "3. **Sort an Array**\n",
    "\n",
    "Given an array of integers `nums`, sort the array in ascending order and return it.\n",
    "\n",
    "You must solve the problem **without using any built-in** functions in `O(nlog(n))` time complexity and with the smallest space complexity possible.\n",
    "\n",
    "**Example 1:**\n",
    "Input: nums = [5,2,3,1]\n",
    "Output: [1,2,3,5]\n",
    "Explanation: After sorting the array, the positions of some numbers are not changed (for example, 2 and 3), while the positions of other numbers are changed (for example, 1 and 5).\n",
    "\n",
    "**Example 2:**\n",
    "Input: nums = [5,1,1,2,0,0]\n",
    "Output: [0,0,1,1,2,5]\n",
    "Explanation: Note that the values of nums are not necessairly unique.\n",
    "\n",
    "**Constraints:**\n",
    "- `1 <= nums.length <= 5 * 10000`\n",
    "- `-5 * 104 <= nums[i] <= 5 * 10000`"
   ]
  },
  {
   "cell_type": "code",
   "execution_count": 89,
   "id": "d5cf0f3a",
   "metadata": {},
   "outputs": [
    {
     "name": "stdout",
     "output_type": "stream",
     "text": [
      "[0, 0, 1, 1, 2, 5]\n"
     ]
    }
   ],
   "source": [
    "# Q3 solution:-\n",
    "\n",
    "def sortArray(nums):\n",
    "    def mergeSort(arr):\n",
    "        if len(arr) <= 1:\n",
    "            return arr\n",
    "\n",
    "        mid = len(arr) // 2\n",
    "        left = mergeSort(arr[:mid])\n",
    "        right = mergeSort(arr[mid:])\n",
    "\n",
    "        return merge(left, right)\n",
    "\n",
    "    def merge(left, right):\n",
    "        merged = []\n",
    "        i = j = 0\n",
    "\n",
    "        while i < len(left) and j < len(right):\n",
    "            if left[i] <= right[j]:\n",
    "                merged.append(left[i])\n",
    "                i += 1\n",
    "            else:\n",
    "                merged.append(right[j])\n",
    "                j += 1\n",
    "\n",
    "        merged.extend(left[i:])\n",
    "        merged.extend(right[j:])\n",
    "\n",
    "        return merged\n",
    "\n",
    "    return mergeSort(nums)\n",
    "\n",
    "\n",
    "# Example\n",
    "nums = [5, 1, 1, 2, 0, 0]\n",
    "result = sortArray(nums)\n",
    "print(result)"
   ]
  },
  {
   "cell_type": "markdown",
   "id": "4cd50747",
   "metadata": {},
   "source": [
    "4. **Move all zeroes to end of array**\n",
    "\n",
    "Given an array of random numbers, Push all the zero’s of a given array to the end of the array. For example, if the given arrays is {1, 9, 8, 4, 0, 0, 2, 7, 0, 6, 0}, it should be changed to {1, 9, 8, 4, 2, 7, 6, 0, 0, 0, 0}. The order of all other elements should be same. Expected time complexity is O(n) and extra space is O(1).\n",
    "\n",
    "**Example:**\n",
    "Input :  arr[] = {1, 2, 0, 4, 3, 0, 5, 0};\n",
    "Output : arr[] = {1, 2, 4, 3, 5, 0, 0, 0};\n",
    "\n",
    "Input : arr[]  = {1, 2, 0, 0, 0, 3, 6};\n",
    "Output : arr[] = {1, 2, 3, 6, 0, 0, 0};"
   ]
  },
  {
   "cell_type": "code",
   "execution_count": 124,
   "id": "caf1c0f3",
   "metadata": {},
   "outputs": [
    {
     "name": "stdout",
     "output_type": "stream",
     "text": [
      "[1, 2, 4, 3, 5, 0, 0, 0]\n"
     ]
    }
   ],
   "source": [
    "# Q4 solution:-\n",
    "\n",
    "def moveZeroes(arr):\n",
    "    n = len(arr)\n",
    "    zero_pos = 0  # Position to place the next non-zero element\n",
    "\n",
    "    # Move all non-zero elements to the beginning of the array\n",
    "    for i in range(n):\n",
    "        if arr[i] != 0:\n",
    "            arr[zero_pos] = arr[i]\n",
    "            zero_pos += 1\n",
    "\n",
    "    # Fill the remaining positions with zeroes\n",
    "    while zero_pos < n:\n",
    "        arr[zero_pos] = 0\n",
    "        zero_pos += 1\n",
    "\n",
    "    return arr\n",
    "\n",
    "\n",
    "# Example\n",
    "arr = [1, 2, 0, 4, 3, 0, 5, 0]\n",
    "result = moveZeroes(arr)\n",
    "print(result)"
   ]
  },
  {
   "cell_type": "markdown",
   "id": "30905c61",
   "metadata": {},
   "source": [
    "5. **Rearrange array in alternating positive & negative items with O(1) extra space**\n",
    "\n",
    "Given an **array of positive** and **negative numbers**, arrange them in an **alternate** fashion such that every positive number is followed by a negative and vice-versa maintaining the **order of appearance**. The number of positive and negative numbers need not be equal. If there are more positive numbers they appear at the end of the array. If there are more negative numbers, they too appear at the end of the array.\n",
    "\n",
    "**Examples:**\n",
    "Input:  arr[] = {1, 2, 3, -4, -1, 4}\n",
    "Output: arr[] = {-4, 1, -1, 2, 3, 4}\n",
    "\n",
    "Input:  arr[] = {-5, -2, 5, 2, 4, 7, 1, 8, 0, -8}\n",
    "Output: arr[] = {-5, 5, -2, 2, -8, 4, 7, 1, 8, 0}"
   ]
  },
  {
   "cell_type": "code",
   "execution_count": 181,
   "id": "764d6dc2",
   "metadata": {},
   "outputs": [
    {
     "name": "stdout",
     "output_type": "stream",
     "text": [
      "[-5, 5, -2, 2, -8, 7, 1, 8, 0, 4]\n"
     ]
    }
   ],
   "source": [
    "# Q5 solution:-\n",
    "\n",
    "def rearrangeArray(arr):\n",
    "    n = len(arr)\n",
    "    i = 0  # Pointer for positive numbers\n",
    "    j = 1  # Pointer for negative numbers\n",
    "\n",
    "    # Rearrange the array by swapping positive and negative numbers\n",
    "    while i < n and j < n:\n",
    "        # Find the next positive number\n",
    "        while i < n and arr[i] < 0:\n",
    "            i += 2\n",
    "\n",
    "        # Find the next negative number\n",
    "        while j < n and arr[j] > 0:\n",
    "            j += 2\n",
    "\n",
    "        # If both positive and negative numbers are found, swap them\n",
    "        if i < n and j < n:\n",
    "            arr[i], arr[j] = arr[j], arr[i]\n",
    "\n",
    "    return arr\n",
    "\n",
    "\n",
    "# Example\n",
    "arr = [-5, -2, 5, 2, 4, 7, 1, 8, 0, -8]\n",
    "result = rearrangeArray(arr)\n",
    "print(result)"
   ]
  },
  {
   "cell_type": "markdown",
   "id": "98a12bcc",
   "metadata": {},
   "source": [
    "**6. Merge two sorted arrays**\n",
    "\n",
    "Given two sorted arrays, the task is to merge them in a sorted manner.\n",
    "\n",
    "**Examples:**\n",
    "Input: arr1[] = { 1, 3, 4, 5}, arr2[] = {2, 4, 6, 8} \n",
    "Output: arr3[] = {1, 2, 3, 4, 4, 5, 6, 8}\n",
    "\n",
    "Input: arr1[] = { 5, 8, 9}, arr2[] = {4, 7, 8}\n",
    "Output: arr3[] = {4, 5, 7, 8, 8, 9}\n"
   ]
  },
  {
   "cell_type": "code",
   "execution_count": 244,
   "id": "54875c44",
   "metadata": {},
   "outputs": [
    {
     "name": "stdout",
     "output_type": "stream",
     "text": [
      "[4, 5, 7, 8, 8, 9]\n"
     ]
    }
   ],
   "source": [
    "# Q6 solution:-\n",
    "\n",
    "def mergeArrays(arr1, arr2):\n",
    "    n1 = len(arr1)\n",
    "    n2 = len(arr2)\n",
    "    merged = []\n",
    "    i = 0  # Pointer for arr1\n",
    "    j = 0  # Pointer for arr2\n",
    "\n",
    "    # Merge the arrays while maintaining the sorted order\n",
    "    while i < n1 and j < n2:\n",
    "        if arr1[i] <= arr2[j]:\n",
    "            merged.append(arr1[i])\n",
    "            i += 1\n",
    "        else:\n",
    "            merged.append(arr2[j])\n",
    "            j += 1\n",
    "\n",
    "    # Add remaining elements of arr1 (if any)\n",
    "    while i < n1:\n",
    "        merged.append(arr1[i])\n",
    "        i += 1\n",
    "\n",
    "    # Add remaining elements of arr2 (if any)\n",
    "    while j < n2:\n",
    "        merged.append(arr2[j])\n",
    "        j += 1\n",
    "\n",
    "    return merged\n",
    "\n",
    "\n",
    "# Example\n",
    "arr1 = [5, 8, 9]\n",
    "arr2 = [4, 7, 8]\n",
    "result = mergeArrays(arr1, arr2)\n",
    "print(result)"
   ]
  },
  {
   "cell_type": "markdown",
   "id": "39c27e73",
   "metadata": {},
   "source": [
    "7. **Intersection of Two Arrays**\n",
    "\n",
    "Given two integer arrays `nums1` and `nums2`, return *an array of their intersection*. Each element in the result must be **unique** and you may return the result in **any order**.\n",
    "\n",
    "**Example 1:**\n",
    "Input: nums1 = [1,2,2,1], nums2 = [2,2]\n",
    "Output: [2]\n",
    "\n",
    "**Example 2:**\n",
    "Input: nums1 = [4,9,5], nums2 = [9,4,9,8,4]\n",
    "Output: [9,4]\n",
    "Explanation: [4,9] is also accepted.\n",
    "\n",
    "**Constraints:**\n",
    "- `1 <= nums1.length, nums2.length <= 1000`\n",
    "- `0 <= nums1[i], nums2[i] <= 1000`"
   ]
  },
  {
   "cell_type": "code",
   "execution_count": 252,
   "id": "19ed3351",
   "metadata": {},
   "outputs": [
    {
     "name": "stdout",
     "output_type": "stream",
     "text": [
      "[2]\n"
     ]
    }
   ],
   "source": [
    "# Q7 solution:-\n",
    "\n",
    "def intersection(nums1, nums2):\n",
    "    set1 = set(nums1)\n",
    "    set2 = set(nums2)\n",
    "    result = set1.intersection(set2)\n",
    "    return list(result)\n",
    "\n",
    "\n",
    "# Example\n",
    "nums1 = [1, 2, 2, 1]\n",
    "nums2 = [2, 2]\n",
    "result = intersection(nums1, nums2)\n",
    "print(result)"
   ]
  },
  {
   "cell_type": "markdown",
   "id": "64b09142",
   "metadata": {},
   "source": [
    "8. **Intersection of Two Arrays II**\n",
    "\n",
    "Given two integer arrays `nums1` and `nums2`, return *an array of their intersection*. Each element in the result must appear as many times as it shows in both arrays and you may return the result in **any order**.\n",
    "\n",
    "**Example 1:**\n",
    "Input: nums1 = [1,2,2,1], nums2 = [2,2]\n",
    "Output: [2,2]\n",
    "\n",
    "**Example 2:**\n",
    "Input: nums1 = [4,9,5], nums2 = [9,4,9,8,4]\n",
    "Output: [4,9]\n",
    "Explanation: [9,4] is also accepted.\n",
    "\n",
    "**Constraints:**\n",
    "- `1 <= nums1.length, nums2.length <= 1000`\n",
    "- `0 <= nums1[i], nums2[i] <= 1000`"
   ]
  },
  {
   "cell_type": "code",
   "execution_count": 283,
   "id": "8a4869ce",
   "metadata": {},
   "outputs": [
    {
     "name": "stdout",
     "output_type": "stream",
     "text": [
      "[4, 9]\n"
     ]
    }
   ],
   "source": [
    "# Q8 solution:-\n",
    "\n",
    "from collections import Counter\n",
    "\n",
    "def intersect(nums1, nums2):\n",
    "    counter1 = Counter(nums1)\n",
    "    counter2 = Counter(nums2)\n",
    "    result = []\n",
    "    \n",
    "    for num in counter1:\n",
    "        if num in counter2:\n",
    "            count = min(counter1[num], counter2[num])\n",
    "            result.extend([num] * count)\n",
    "    \n",
    "    return result\n",
    "\n",
    "\n",
    "# Example\n",
    "nums1 = [4, 9, 5]\n",
    "nums2 = [9, 4, 9, 8, 4]\n",
    "result = intersect(nums1, nums2)\n",
    "print(result)"
   ]
  },
  {
   "cell_type": "code",
   "execution_count": null,
   "id": "f05efbe8",
   "metadata": {},
   "outputs": [],
   "source": []
  }
 ],
 "metadata": {
  "kernelspec": {
   "display_name": "Python 3 (ipykernel)",
   "language": "python",
   "name": "python3"
  },
  "language_info": {
   "codemirror_mode": {
    "name": "ipython",
    "version": 3
   },
   "file_extension": ".py",
   "mimetype": "text/x-python",
   "name": "python",
   "nbconvert_exporter": "python",
   "pygments_lexer": "ipython3",
   "version": "3.9.7"
  }
 },
 "nbformat": 4,
 "nbformat_minor": 5
}
