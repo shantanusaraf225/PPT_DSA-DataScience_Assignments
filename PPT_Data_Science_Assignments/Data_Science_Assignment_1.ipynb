{
 "cells": [
  {
   "cell_type": "code",
   "execution_count": 64,
   "id": "b4726523",
   "metadata": {},
   "outputs": [
    {
     "name": "stdout",
     "output_type": "stream",
     "text": [
      "!dlroW ,olleH\n"
     ]
    }
   ],
   "source": [
    "# 1. Write a Python program to reverse a string without using any built-in string reversal functions.\n",
    "\n",
    "def reverse_string(input_string):\n",
    "    reversed_string = \"\"\n",
    "    for i in range(len(input_string) - 1, -1, -1):\n",
    "        reversed_string += input_string[i]\n",
    "    return reversed_string\n",
    "\n",
    "# Example\n",
    "string = \"Hello, World!\"\n",
    "reversed_string = reverse_string(string)\n",
    "print(reversed_string)"
   ]
  },
  {
   "cell_type": "code",
   "execution_count": 78,
   "id": "30180dc6",
   "metadata": {},
   "outputs": [
    {
     "name": "stdout",
     "output_type": "stream",
     "text": [
      "True\n"
     ]
    }
   ],
   "source": [
    "# 2. Implement a function to check if a given string is a palindrome.\n",
    "\n",
    "def is_palindrome(input_string):\n",
    "    # Remove non-alphanumeric characters and convert to lowercase\n",
    "    input_string = ''.join(c.lower() for c in input_string if c.isalnum())\n",
    "    return input_string == input_string[::-1]\n",
    "\n",
    "# Example\n",
    "string = \"A man, a plan, a canal, Panama!\"\n",
    "print(is_palindrome(string))"
   ]
  },
  {
   "cell_type": "code",
   "execution_count": 97,
   "id": "ea822361",
   "metadata": {},
   "outputs": [
    {
     "name": "stdout",
     "output_type": "stream",
     "text": [
      "20\n"
     ]
    }
   ],
   "source": [
    "# 3. Write a program to find the largest element in a given list.\n",
    "\n",
    "def find_largest_element(lst):\n",
    "    largest = lst[0]\n",
    "    for num in lst:\n",
    "        if num > largest:\n",
    "            largest = num\n",
    "    return largest\n",
    "\n",
    "# Example\n",
    "numbers = [10, 5, 8, 20, 15]\n",
    "largest_number = find_largest_element(numbers)\n",
    "print(largest_number)"
   ]
  },
  {
   "cell_type": "code",
   "execution_count": 115,
   "id": "f90cfcfb",
   "metadata": {},
   "outputs": [
    {
     "name": "stdout",
     "output_type": "stream",
     "text": [
      "{1: 2, 2: 2, 3: 3, 4: 3, 5: 1}\n"
     ]
    }
   ],
   "source": [
    "# 4. Implement a function to count the occurrence of each element in a list.\n",
    "\n",
    "def count_occurrences(lst):\n",
    "    occurrence_count = {}\n",
    "    for element in lst:\n",
    "        if element in occurrence_count:\n",
    "            occurrence_count[element] += 1\n",
    "        else:\n",
    "            occurrence_count[element] = 1\n",
    "    return occurrence_count\n",
    "\n",
    "# Example\n",
    "numbers = [1, 2, 3, 2, 1, 3, 3, 4, 5, 4, 4]\n",
    "occurrences = count_occurrences(numbers)\n",
    "print(occurrences)"
   ]
  },
  {
   "cell_type": "code",
   "execution_count": 131,
   "id": "50b6fc8e",
   "metadata": {},
   "outputs": [
    {
     "name": "stdout",
     "output_type": "stream",
     "text": [
      "15\n"
     ]
    }
   ],
   "source": [
    "# 5. Write a Python program to find the second largest number in a list.\n",
    "\n",
    "def find_second_largest(lst):\n",
    "    largest = float('-inf')\n",
    "    second_largest = float('-inf')\n",
    "    for num in lst:\n",
    "        if num > largest:\n",
    "            second_largest = largest\n",
    "            largest = num\n",
    "        elif num > second_largest and num != largest:\n",
    "            second_largest = num\n",
    "    return second_largest\n",
    "\n",
    "# Example\n",
    "numbers = [10, 5, 8, 20, 15]\n",
    "second_largest_number = find_second_largest(numbers)\n",
    "print(second_largest_number)"
   ]
  },
  {
   "cell_type": "code",
   "execution_count": 136,
   "id": "7b7789e9",
   "metadata": {},
   "outputs": [
    {
     "name": "stdout",
     "output_type": "stream",
     "text": [
      "[1, 2, 3, 4, 5]\n"
     ]
    }
   ],
   "source": [
    "# 6. Implement a function to remove duplicate elements from a list.\n",
    "\n",
    "def remove_duplicates(lst):\n",
    "    return list(set(lst))\n",
    "\n",
    "# Example \n",
    "numbers = [1, 2, 3, 2, 1, 3, 3, 4, 5, 4, 4]\n",
    "unique_numbers = remove_duplicates(numbers)\n",
    "print(unique_numbers)"
   ]
  },
  {
   "cell_type": "code",
   "execution_count": 137,
   "id": "0fdd65b7",
   "metadata": {},
   "outputs": [
    {
     "name": "stdout",
     "output_type": "stream",
     "text": [
      "120\n"
     ]
    }
   ],
   "source": [
    "# 7. Write a program to calculate the factorial of a given number.\n",
    "\n",
    "def factorial(n):\n",
    "    if n == 0:\n",
    "        return 1\n",
    "    else:\n",
    "        return n * factorial(n - 1)\n",
    "\n",
    "# Example\n",
    "number = 5\n",
    "factorial_result = factorial(number)\n",
    "print(factorial_result)"
   ]
  },
  {
   "cell_type": "code",
   "execution_count": 149,
   "id": "b3f56b65",
   "metadata": {},
   "outputs": [
    {
     "name": "stdout",
     "output_type": "stream",
     "text": [
      "False\n"
     ]
    }
   ],
   "source": [
    "# 8. Implement a function to check if a given number is prime.\n",
    "\n",
    "def is_prime(n):\n",
    "    if n <= 1:\n",
    "        return False\n",
    "    for i in range(2, int(n**0.5) + 1):\n",
    "        if n % i == 0:\n",
    "            return False\n",
    "    return True\n",
    "\n",
    "# Example\n",
    "number = 18\n",
    "print(is_prime(number))"
   ]
  },
  {
   "cell_type": "code",
   "execution_count": 166,
   "id": "6d7bbd10",
   "metadata": {},
   "outputs": [
    {
     "name": "stdout",
     "output_type": "stream",
     "text": [
      "[5, 8, 10, 15, 20]\n"
     ]
    }
   ],
   "source": [
    "# 9. Write a Python program to sort a list of integers in ascending order.\n",
    "\n",
    "def sort_list(lst):\n",
    "    return sorted(lst)\n",
    "\n",
    "# Example\n",
    "numbers = [10, 5, 8, 20, 15]\n",
    "sorted_numbers = sort_list(numbers)\n",
    "print(sorted_numbers)\n"
   ]
  },
  {
   "cell_type": "code",
   "execution_count": 179,
   "id": "d54aeeb5",
   "metadata": {},
   "outputs": [
    {
     "name": "stdout",
     "output_type": "stream",
     "text": [
      "15\n"
     ]
    }
   ],
   "source": [
    "# 10. Implement a function to find the sum of all numbers in a list.\n",
    "\n",
    "def sum_list(lst):\n",
    "    return sum(lst)\n",
    "\n",
    "# Example\n",
    "numbers = [1, 2, 3, 4, 5]\n",
    "list_sum = sum_list(numbers)\n",
    "print(list_sum)\n"
   ]
  },
  {
   "cell_type": "code",
   "execution_count": 190,
   "id": "90e5f2bd",
   "metadata": {},
   "outputs": [
    {
     "name": "stdout",
     "output_type": "stream",
     "text": [
      "[4, 5]\n"
     ]
    }
   ],
   "source": [
    "# 11. Write a program to find the common elements between two lists.\n",
    "\n",
    "def find_common_elements(list1, list2):\n",
    "    return list(set(list1) & set(list2))\n",
    "\n",
    "# Example \n",
    "list1 = [1, 2, 3, 4, 5]\n",
    "list2 = [4, 5, 6, 7, 8]\n",
    "common_elements = find_common_elements(list1, list2)\n",
    "print(common_elements)\n"
   ]
  },
  {
   "cell_type": "code",
   "execution_count": 202,
   "id": "fa830604",
   "metadata": {},
   "outputs": [
    {
     "name": "stdout",
     "output_type": "stream",
     "text": [
      "True\n"
     ]
    }
   ],
   "source": [
    "# 12. Implement a function to check if a given string is an anagram of another string.\n",
    "\n",
    "def is_anagram(string1, string2):\n",
    "    return sorted(string1) == sorted(string2)\n",
    "\n",
    "# Example \n",
    "string1 = \"listen\"\n",
    "string2 = \"silent\"\n",
    "print(is_anagram(string1, string2))\n"
   ]
  },
  {
   "cell_type": "code",
   "execution_count": 240,
   "id": "400d1b91",
   "metadata": {},
   "outputs": [
    {
     "name": "stdout",
     "output_type": "stream",
     "text": [
      "['abc', 'acb', 'bac', 'bca', 'cab', 'cba']\n"
     ]
    }
   ],
   "source": [
    "# 13. Write a Python program to generate all permutations of a given string.\n",
    "\n",
    "def generate_permutations(string):\n",
    "    if len(string) == 0:\n",
    "        return []\n",
    "    elif len(string) == 1:\n",
    "        return [string]\n",
    "    else:\n",
    "        permutations = []\n",
    "        for i in range(len(string)):\n",
    "            first_char = string[i]\n",
    "            remaining_chars = string[:i] + string[i+1:]\n",
    "            for p in generate_permutations(remaining_chars):\n",
    "                permutations.append(first_char + p)\n",
    "        return permutations\n",
    "\n",
    "# Example \n",
    "string = \"abc\"\n",
    "permutations = generate_permutations(string)\n",
    "print(permutations)"
   ]
  },
  {
   "cell_type": "code",
   "execution_count": 248,
   "id": "29b6a749",
   "metadata": {},
   "outputs": [
    {
     "name": "stdout",
     "output_type": "stream",
     "text": [
      "[0, 1, 1, 2, 3, 5, 8, 13, 21, 34]\n"
     ]
    }
   ],
   "source": [
    "# 14. Implement a function to calculate the Fibonacci sequence up to a given number of terms.\n",
    "\n",
    "def fibonacci_sequence(n):\n",
    "    sequence = [0, 1]\n",
    "    while len(sequence) < n:\n",
    "        next_number = sequence[-1] + sequence[-2]\n",
    "        sequence.append(next_number)\n",
    "    return sequence\n",
    "\n",
    "# Example \n",
    "terms = 10\n",
    "fibonacci = fibonacci_sequence(terms)\n",
    "print(fibonacci)"
   ]
  },
  {
   "cell_type": "code",
   "execution_count": 260,
   "id": "9690f36d",
   "metadata": {},
   "outputs": [
    {
     "name": "stdout",
     "output_type": "stream",
     "text": [
      "3\n"
     ]
    }
   ],
   "source": [
    "# 15. Write a program to find the median of a list of numbers.\n",
    "\n",
    "def find_median(lst):\n",
    "    sorted_lst = sorted(lst)\n",
    "    n = len(sorted_lst)\n",
    "    if n % 2 == 0:\n",
    "        mid = n // 2\n",
    "        median = (sorted_lst[mid - 1] + sorted_lst[mid]) / 2\n",
    "    else:\n",
    "        mid = n // 2\n",
    "        median = sorted_lst[mid]\n",
    "    return median\n",
    "\n",
    "# Example \n",
    "numbers = [1, 2, 3, 4, 5]\n",
    "median = find_median(numbers)\n",
    "print(median)"
   ]
  },
  {
   "cell_type": "code",
   "execution_count": 271,
   "id": "c5dc6ea3",
   "metadata": {},
   "outputs": [
    {
     "name": "stdout",
     "output_type": "stream",
     "text": [
      "True\n",
      "False\n"
     ]
    }
   ],
   "source": [
    "# 16. Implement a function to check if a given list is sorted in non-decreasing order.\n",
    "\n",
    "def is_sorted(lst):\n",
    "    return all(lst[i] <= lst[i+1] for i in range(len(lst)-1))\n",
    "\n",
    "# Example \n",
    "numbers1 = [1, 2, 3, 4, 5]\n",
    "numbers2 = [5, 3, 1, 4, 2]\n",
    "print(is_sorted(numbers1))  # True\n",
    "print(is_sorted(numbers2))  # False\n",
    "\n"
   ]
  },
  {
   "cell_type": "code",
   "execution_count": 277,
   "id": "84337bb5",
   "metadata": {},
   "outputs": [
    {
     "name": "stdout",
     "output_type": "stream",
     "text": [
      "[4, 5]\n"
     ]
    }
   ],
   "source": [
    "# 17. Write a Python program to find the intersection of two lists.\n",
    "\n",
    "def find_intersection(list1, list2):\n",
    "    return list(set(list1) & set(list2))\n",
    "\n",
    "# Example \n",
    "list1 = [1, 2, 3, 4, 5]\n",
    "list2 = [4, 5, 6, 7, 8]\n",
    "intersection = find_intersection(list1, list2)\n",
    "print(intersection)\n"
   ]
  },
  {
   "cell_type": "code",
   "execution_count": 302,
   "id": "8b3c1c63",
   "metadata": {},
   "outputs": [
    {
     "name": "stdout",
     "output_type": "stream",
     "text": [
      "6\n"
     ]
    }
   ],
   "source": [
    "def max_subarray_sum(lst):\n",
    "    max_sum = float('-inf')\n",
    "    current_sum = 0\n",
    "    for num in lst:\n",
    "        current_sum += num\n",
    "        if current_sum > max_sum:\n",
    "            max_sum = current_sum\n",
    "        if current_sum < 0:\n",
    "            current_sum = 0\n",
    "    return max_sum\n",
    "\n",
    "# Example \n",
    "numbers = [-2, 1, -3, 4, -1, 2, 1, -5, 4]\n",
    "max_sum = max_subarray_sum(numbers)\n",
    "print(max_sum)"
   ]
  },
  {
   "cell_type": "code",
   "execution_count": 309,
   "id": "86a247b1",
   "metadata": {},
   "outputs": [
    {
     "name": "stdout",
     "output_type": "stream",
     "text": [
      "Hll, Wrld!\n"
     ]
    }
   ],
   "source": [
    "# 19. Write a program to remove all vowels from a given string.\n",
    "\n",
    "def remove_vowels(string):\n",
    "    vowels = \"aeiouAEIOU\"\n",
    "    return ''.join(char for char in string if char not in vowels)\n",
    "\n",
    "# Example \n",
    "string = \"Hello, World!\"\n",
    "string_without_vowels = remove_vowels(string)\n",
    "print(string_without_vowels)"
   ]
  },
  {
   "cell_type": "code",
   "execution_count": 314,
   "id": "62ba2fd9",
   "metadata": {},
   "outputs": [
    {
     "name": "stdout",
     "output_type": "stream",
     "text": [
      "World! Hello,\n"
     ]
    }
   ],
   "source": [
    "# 20. Implement a function to reverse the order of words in a given sentence.\n",
    "\n",
    "def reverse_sentence(sentence):\n",
    "    words = sentence.split()\n",
    "    reversed_words = words[::-1]\n",
    "    reversed_sentence = ' '.join(reversed_words)\n",
    "    return reversed_sentence\n",
    "\n",
    "# Example \n",
    "sentence = \"Hello, World!\"\n",
    "reversed_sentence = reverse_sentence(sentence)\n",
    "print(reversed_sentence)"
   ]
  },
  {
   "cell_type": "code",
   "execution_count": 325,
   "id": "22674a0e",
   "metadata": {},
   "outputs": [
    {
     "name": "stdout",
     "output_type": "stream",
     "text": [
      "True\n"
     ]
    }
   ],
   "source": [
    "# 21. Write a Python program to check if two strings are anagrams of each other.\n",
    "\n",
    "def are_anagrams(string1, string2):\n",
    "    return sorted(string1) == sorted(string2)\n",
    "\n",
    "# Example \n",
    "string1 = \"listen\"\n",
    "string2 = \"silent\"\n",
    "print(are_anagrams(string1, string2))\n",
    "\n"
   ]
  },
  {
   "cell_type": "code",
   "execution_count": 351,
   "id": "42e5abb9",
   "metadata": {},
   "outputs": [
    {
     "name": "stdout",
     "output_type": "stream",
     "text": [
      "c\n"
     ]
    }
   ],
   "source": [
    "# 22. Implement a function to find the first non-repeating character in a string.\n",
    "\n",
    "def find_first_non_repeating_character(string):\n",
    "    char_count = {}\n",
    "    for char in string:\n",
    "        if char in char_count:\n",
    "            char_count[char] += 1\n",
    "        else:\n",
    "            char_count[char] = 1\n",
    "    for char in string:\n",
    "        if char_count[char] == 1:\n",
    "            return char\n",
    "    return None\n",
    "\n",
    "# Example \n",
    "string = \"aabbcde\"\n",
    "non_repeating_char = find_first_non_repeating_character(string)\n",
    "print(non_repeating_char)"
   ]
  },
  {
   "cell_type": "code",
   "execution_count": 370,
   "id": "943285fd",
   "metadata": {},
   "outputs": [
    {
     "name": "stdout",
     "output_type": "stream",
     "text": [
      "[2, 2, 2, 3]\n"
     ]
    }
   ],
   "source": [
    "# 23. Write a program to find the prime factors of a given number.\n",
    "\n",
    "def find_prime_factors(n):\n",
    "    factors = []\n",
    "    i = 2\n",
    "    while i <= n:\n",
    "        if n % i == 0:\n",
    "            factors.append(i)\n",
    "            n //= i\n",
    "        else:\n",
    "            i += 1\n",
    "    return factors\n",
    "\n",
    "# Example \n",
    "number = 24\n",
    "prime_factors = find_prime_factors(number)\n",
    "print(prime_factors)"
   ]
  },
  {
   "cell_type": "code",
   "execution_count": 381,
   "id": "01fd1d6d",
   "metadata": {},
   "outputs": [
    {
     "name": "stdout",
     "output_type": "stream",
     "text": [
      "True\n"
     ]
    }
   ],
   "source": [
    "# 24. Implement a function to check if a given number is a power of two.\n",
    "\n",
    "def is_power_of_two(n):\n",
    "    return n != 0 and (n & (n - 1)) == 0\n",
    "\n",
    "# Example \n",
    "number = 16\n",
    "print(is_power_of_two(number))"
   ]
  },
  {
   "cell_type": "code",
   "execution_count": 400,
   "id": "39078221",
   "metadata": {},
   "outputs": [
    {
     "name": "stdout",
     "output_type": "stream",
     "text": [
      "[1, 2, 3, 4, 5, 6]\n"
     ]
    }
   ],
   "source": [
    "# 25. Write a Python program to merge two sorted lists into a single sorted list.\n",
    "\n",
    "def merge_sorted_lists(list1, list2):\n",
    "    merged_list = []\n",
    "    i, j = 0, 0\n",
    "    while i < len(list1) and j < len(list2):\n",
    "        if list1[i] <= list2[j]:\n",
    "            merged_list.append(list1[i])\n",
    "            i += 1\n",
    "        else:\n",
    "            merged_list.append(list2[j])\n",
    "            j += 1\n",
    "    merged_list.extend(list1[i:])\n",
    "    merged_list.extend(list2[j:])\n",
    "    return merged_list\n",
    "\n",
    "# Example \n",
    "list1 = [1, 3, 5]\n",
    "list2 = [2, 4, 6]\n",
    "merged_list = merge_sorted_lists(list1, list2)\n",
    "print(merged_list)"
   ]
  },
  {
   "cell_type": "code",
   "execution_count": 417,
   "id": "04192e84",
   "metadata": {},
   "outputs": [
    {
     "name": "stdout",
     "output_type": "stream",
     "text": [
      "[3, 4]\n"
     ]
    }
   ],
   "source": [
    "# 26. Implement a function to find the mode of a list of numbers.\n",
    "\n",
    "from collections import Counter\n",
    "\n",
    "def find_mode(lst):\n",
    "    counter = Counter(lst)\n",
    "    max_count = max(counter.values())\n",
    "    mode = [num for num, count in counter.items() if count == max_count]\n",
    "    return mode\n",
    "\n",
    "# Example \n",
    "numbers = [1, 2, 3, 2, 1, 3, 3, 4, 5, 4, 4]\n",
    "mode = find_mode(numbers)\n",
    "print(mode)"
   ]
  },
  {
   "cell_type": "code",
   "execution_count": 428,
   "id": "5369ed7d",
   "metadata": {},
   "outputs": [
    {
     "name": "stdout",
     "output_type": "stream",
     "text": [
      "12\n"
     ]
    }
   ],
   "source": [
    "# 27. Write a program to find the greatest common divisor (GCD) of two numbers.\n",
    "\n",
    "def find_gcd(a, b):\n",
    "    while b != 0:\n",
    "        a, b = b, a % b\n",
    "    return a\n",
    "\n",
    "# Example \n",
    "num1 = 36\n",
    "num2 = 48\n",
    "gcd = find_gcd(num1, num2)\n",
    "print(gcd)\n"
   ]
  },
  {
   "cell_type": "code",
   "execution_count": 438,
   "id": "d6299b73",
   "metadata": {},
   "outputs": [
    {
     "name": "stdout",
     "output_type": "stream",
     "text": [
      "4.0\n"
     ]
    }
   ],
   "source": [
    "# 28. Implement a function to calculate the square root of a given number.\n",
    "\n",
    "def square_root(n):\n",
    "    if n < 0:\n",
    "        return None\n",
    "    guess = n\n",
    "    while True:\n",
    "        new_guess = (guess + n / guess) / 2\n",
    "        if abs(guess - new_guess) < 1e-7:\n",
    "            return new_guess\n",
    "        guess = new_guess\n",
    "\n",
    "# Example \n",
    "number = 16\n",
    "sqrt = square_root(number)\n",
    "print(sqrt)"
   ]
  },
  {
   "cell_type": "code",
   "execution_count": 453,
   "id": "4ce88b7e",
   "metadata": {},
   "outputs": [
    {
     "name": "stdout",
     "output_type": "stream",
     "text": [
      "True\n"
     ]
    }
   ],
   "source": [
    "# 29. Write a Python program to check if a given string is a valid palindrome ignoring non-alphanumeric characters.\n",
    "\n",
    "def is_valid_palindrome(string):\n",
    "    cleaned_string = ''.join(c.lower() for c in string if c.isalnum())\n",
    "    return cleaned_string == cleaned_string[::-1]\n",
    "\n",
    "# Example \n",
    "string = \"A man, a plan, a canal, Panama!\"\n",
    "print(is_valid_palindrome(string))\n"
   ]
  },
  {
   "cell_type": "code",
   "execution_count": 464,
   "id": "676d18b4",
   "metadata": {},
   "outputs": [
    {
     "name": "stdout",
     "output_type": "stream",
     "text": [
      "0\n"
     ]
    }
   ],
   "source": [
    "# 30. Implement a function to find the minimum element in a rotated sorted list.\n",
    "\n",
    "def find_min_rotated(lst):\n",
    "    left, right = 0, len(lst) - 1\n",
    "    while left < right:\n",
    "        mid = left + (right - left) // 2\n",
    "        if lst[mid] > lst[right]:\n",
    "            left = mid + 1\n",
    "        else:\n",
    "            right = mid\n",
    "    return lst[left]\n",
    "\n",
    "# Example \n",
    "numbers = [4, 5, 6, 7, 0, 1, 2]\n",
    "min_rotated = find_min_rotated(numbers)\n",
    "print(min_rotated)"
   ]
  },
  {
   "cell_type": "code",
   "execution_count": 469,
   "id": "b494028d",
   "metadata": {},
   "outputs": [
    {
     "name": "stdout",
     "output_type": "stream",
     "text": [
      "30\n"
     ]
    }
   ],
   "source": [
    "# 31. Write a program to find the sum of all even numbers in a list.\n",
    "\n",
    "def sum_even_numbers(lst):\n",
    "    return sum(num for num in lst if num % 2 == 0)\n",
    "\n",
    "# Example\n",
    "numbers = [1, 2, 3, 4, 5, 6, 7, 8, 9, 10]\n",
    "even_sum = sum_even_numbers(numbers)\n",
    "print(even_sum)"
   ]
  },
  {
   "cell_type": "code",
   "execution_count": 481,
   "id": "2e7149b1",
   "metadata": {},
   "outputs": [
    {
     "name": "stdout",
     "output_type": "stream",
     "text": [
      "8\n"
     ]
    }
   ],
   "source": [
    "# 32. Implement a function to calculate the power of a number using recursion.\n",
    "\n",
    "def power(base, exponent):\n",
    "    if exponent == 0:\n",
    "        return 1\n",
    "    elif exponent > 0:\n",
    "        return base * power(base, exponent - 1)\n",
    "    else:\n",
    "        return 1 / (base * power(base, -exponent - 1))\n",
    "\n",
    "# Example \n",
    "base = 2\n",
    "exponent = 3\n",
    "result = power(base, exponent)\n",
    "print(result)"
   ]
  },
  {
   "cell_type": "code",
   "execution_count": 494,
   "id": "7215e73f",
   "metadata": {},
   "outputs": [
    {
     "name": "stdout",
     "output_type": "stream",
     "text": [
      "[1, 2, 3, 4, 5]\n"
     ]
    }
   ],
   "source": [
    "# 33. Write a Python program to remove duplicates from a list while preserving the order.\n",
    "\n",
    "def remove_duplicates_preserve_order(lst):\n",
    "    seen = set()\n",
    "    return [x for x in lst if not (x in seen or seen.add(x))]\n",
    "\n",
    "# Example \n",
    "numbers = [1, 2, 3, 2, 1, 3, 3, 4, 5, 4, 4]\n",
    "unique_numbers = remove_duplicates_preserve_order(numbers)\n",
    "print(unique_numbers)"
   ]
  },
  {
   "cell_type": "code",
   "execution_count": 512,
   "id": "eb55af12",
   "metadata": {},
   "outputs": [
    {
     "name": "stdout",
     "output_type": "stream",
     "text": [
      "fl\n"
     ]
    }
   ],
   "source": [
    "# 34. Implement a function to find the longest common prefix among a list of strings.\n",
    "\n",
    "def longest_common_prefix(strings):\n",
    "    if not strings:\n",
    "        return \"\"\n",
    "    prefix = strings[0]\n",
    "    for string in strings[1:]:\n",
    "        while string.find(prefix) != 0:\n",
    "            prefix = prefix[:-1]\n",
    "            if not prefix:\n",
    "                return \"\"\n",
    "    return prefix\n",
    "\n",
    "# Example \n",
    "strings = [\"flower\", \"flow\", \"flight\"]\n",
    "common_prefix = longest_common_prefix(strings)\n",
    "print(common_prefix)"
   ]
  },
  {
   "cell_type": "code",
   "execution_count": 515,
   "id": "9c1bb7f9",
   "metadata": {},
   "outputs": [
    {
     "name": "stdout",
     "output_type": "stream",
     "text": [
      "True\n"
     ]
    }
   ],
   "source": [
    "# 35. Write a program to check if a given number is a perfect square.\n",
    "\n",
    "def is_perfect_square(n):\n",
    "    return n >= 0 and int(n**0.5)**2 == n\n",
    "\n",
    "# Example\n",
    "number = 16\n",
    "print(is_perfect_square(number))"
   ]
  },
  {
   "cell_type": "code",
   "execution_count": 526,
   "id": "e59be44f",
   "metadata": {},
   "outputs": [
    {
     "name": "stdout",
     "output_type": "stream",
     "text": [
      "120\n"
     ]
    }
   ],
   "source": [
    "# 36. Implement a function to calculate the product of all elements in a list.\n",
    "\n",
    "from functools import reduce\n",
    "import operator\n",
    "\n",
    "def product_list(lst):\n",
    "    return reduce(operator.mul, lst, 1)\n",
    "\n",
    "# Example \n",
    "numbers = [1, 2, 3, 4, 5]\n",
    "product = product_list(numbers)\n",
    "print(product)"
   ]
  },
  {
   "cell_type": "code",
   "execution_count": 539,
   "id": "95b41653",
   "metadata": {},
   "outputs": [
    {
     "name": "stdout",
     "output_type": "stream",
     "text": [
      "World! Hello,\n"
     ]
    }
   ],
   "source": [
    "# 37. Write a Python program to reverse the order of words in a sentence while preserving the word order.\n",
    "\n",
    "def reverse_sentence_words(sentence):\n",
    "    words = sentence.split()\n",
    "    reversed_words = words[::-1]\n",
    "    reversed_sentence = ' '.join(reversed_words)\n",
    "    return reversed_sentence\n",
    "\n",
    "# Example \n",
    "sentence = \"Hello, World!\"\n",
    "reversed_sentence = reverse_sentence_words(sentence)\n",
    "print(reversed_sentence)\n"
   ]
  },
  {
   "cell_type": "code",
   "execution_count": 544,
   "id": "f5399202",
   "metadata": {},
   "outputs": [
    {
     "name": "stdout",
     "output_type": "stream",
     "text": [
      "4\n"
     ]
    }
   ],
   "source": [
    "# 38. Implement a function to find the missing number in a given list of consecutive numbers.\n",
    "\n",
    "def find_missing_number(lst):\n",
    "    n = len(lst) + 1\n",
    "    expected_sum = (n * (n + 1)) // 2\n",
    "    actual_sum = sum(lst)\n",
    "    return expected_sum - actual_sum\n",
    "\n",
    "# Example \n",
    "numbers = [1, 2, 3, 5, 6, 7]\n",
    "missing_number = find_missing_number(numbers)\n",
    "print(missing_number)"
   ]
  },
  {
   "cell_type": "code",
   "execution_count": 560,
   "id": "58a24b5a",
   "metadata": {},
   "outputs": [
    {
     "name": "stdout",
     "output_type": "stream",
     "text": [
      "15\n"
     ]
    }
   ],
   "source": [
    "# 39. Write a program to find the sum of digits of a given number.\n",
    "\n",
    "def sum_of_digits(number):\n",
    "    total = 0\n",
    "    while number > 0:\n",
    "        digit = number % 10\n",
    "        total += digit\n",
    "        number //= 10\n",
    "    return total\n",
    "\n",
    "# Example \n",
    "number = 12345\n",
    "digit_sum = sum_of_digits(number)\n",
    "print(digit_sum)"
   ]
  },
  {
   "cell_type": "code",
   "execution_count": 568,
   "id": "dad3b3a0",
   "metadata": {},
   "outputs": [
    {
     "name": "stdout",
     "output_type": "stream",
     "text": [
      "True\n"
     ]
    }
   ],
   "source": [
    "# 40. Implement a function to check if a given string is a valid palindrome considering case sensitivity.\n",
    "\n",
    "def is_valid_palindrome_case_sensitive(string):\n",
    "    return string == string[::-1]\n",
    "\n",
    "# Example \n",
    "string = \"level\"\n",
    "print(is_valid_palindrome_case_sensitive(string))"
   ]
  },
  {
   "cell_type": "code",
   "execution_count": 581,
   "id": "24794df6",
   "metadata": {},
   "outputs": [
    {
     "name": "stdout",
     "output_type": "stream",
     "text": [
      "2\n"
     ]
    }
   ],
   "source": [
    "# 41. Write a Python program to find the smallest missing positive integer in a list.\n",
    "\n",
    "def find_smallest_missing_positive(lst):\n",
    "    smallest = 1\n",
    "    for num in sorted(lst):\n",
    "        if num == smallest:\n",
    "            smallest += 1\n",
    "    return smallest\n",
    "\n",
    "# Example\n",
    "numbers = [3, 4, -1, 1]\n",
    "smallest_missing = find_smallest_missing_positive(numbers)\n",
    "print(smallest_missing)\n"
   ]
  },
  {
   "cell_type": "code",
   "execution_count": 594,
   "id": "f33b7a4f",
   "metadata": {},
   "outputs": [
    {
     "name": "stdout",
     "output_type": "stream",
     "text": [
      "bab\n"
     ]
    }
   ],
   "source": [
    "# 42. Implement a function to find the longest palindrome substring in a given string.\n",
    "\n",
    "def longest_palindrome_substring(string):\n",
    "    n = len(string)\n",
    "    longest = \"\"\n",
    "    for i in range(n):\n",
    "        for j in range(i, n):\n",
    "            substring = string[i:j+1]\n",
    "            if substring == substring[::-1] and len(substring) > len(longest):\n",
    "                longest = substring\n",
    "    return longest\n",
    "\n",
    "# Example\n",
    "string = \"babad\"\n",
    "longest_palindrome = longest_palindrome_substring(string)\n",
    "print(longest_palindrome)\n"
   ]
  },
  {
   "cell_type": "code",
   "execution_count": 613,
   "id": "24399d3f",
   "metadata": {},
   "outputs": [
    {
     "name": "stdout",
     "output_type": "stream",
     "text": [
      "3\n"
     ]
    }
   ],
   "source": [
    "# 43. Write a program to find the number of occurrences of a given element in a list.\n",
    "\n",
    "def count_occurrences(lst, element):\n",
    "    return lst.count(element)\n",
    "\n",
    "# Example\n",
    "numbers = [1, 2, 3, 2, 1, 3, 3, 4, 5, 4, 4]\n",
    "count = count_occurrences(numbers, 3)\n",
    "print(count)\n"
   ]
  },
  {
   "cell_type": "code",
   "execution_count": 619,
   "id": "144a9680",
   "metadata": {},
   "outputs": [
    {
     "name": "stdout",
     "output_type": "stream",
     "text": [
      "True\n"
     ]
    }
   ],
   "source": [
    "# 44. Implement a function to check if a given number is a perfect number.\n",
    "\n",
    "def is_perfect_number(n):\n",
    "    if n <= 0:\n",
    "        return False\n",
    "    divisors = [1]\n",
    "    for i in range(2, int(n**0.5) + 1):\n",
    "        if n % i == 0:\n",
    "            divisors.append(i)\n",
    "            divisors.append(n // i)\n",
    "    return sum(divisors) == n\n",
    "\n",
    "# Example\n",
    "number = 28\n",
    "print(is_perfect_number(number))"
   ]
  },
  {
   "cell_type": "code",
   "execution_count": 624,
   "id": "fb6f13da",
   "metadata": {},
   "outputs": [
    {
     "name": "stdout",
     "output_type": "stream",
     "text": [
      " ,!eHdrlWo\n"
     ]
    }
   ],
   "source": [
    "# 45. Write a Python program to remove all duplicates from a string.\n",
    "\n",
    "def remove_duplicates_string(string):\n",
    "    return ''.join(set(string))\n",
    "\n",
    "# Example\n",
    "string = \"Hello, World!\"\n",
    "string_without_duplicates = remove_duplicates_string(string)\n",
    "print(string_without_duplicates)"
   ]
  },
  {
   "cell_type": "code",
   "execution_count": 644,
   "id": "45ddb42a",
   "metadata": {},
   "outputs": [
    {
     "name": "stdout",
     "output_type": "stream",
     "text": [
      "2\n"
     ]
    }
   ],
   "source": [
    "# 46. Implement a function to find the first missing positive\n",
    "\n",
    "def find_first_missing_positive(nums):\n",
    "    n = len(nums)\n",
    "\n",
    "    # Move each positive number to its correct position\n",
    "    for i in range(n):\n",
    "        while 0 < nums[i] <= n and nums[i] != nums[nums[i] - 1]:\n",
    "            nums[nums[i] - 1], nums[i] = nums[i], nums[nums[i] - 1]\n",
    "\n",
    "    # Find the first missing positive number\n",
    "    for i in range(n):\n",
    "        if nums[i] != i + 1:\n",
    "            return i + 1\n",
    "\n",
    "    return n + 1\n",
    "\n",
    "# Example\n",
    "numbers = [3, 4, -1, 1]\n",
    "missing_positive = find_first_missing_positive(numbers)\n",
    "print(missing_positive)"
   ]
  },
  {
   "cell_type": "code",
   "execution_count": null,
   "id": "df84d76e",
   "metadata": {},
   "outputs": [],
   "source": []
  }
 ],
 "metadata": {
  "kernelspec": {
   "display_name": "Python 3 (ipykernel)",
   "language": "python",
   "name": "python3"
  },
  "language_info": {
   "codemirror_mode": {
    "name": "ipython",
    "version": 3
   },
   "file_extension": ".py",
   "mimetype": "text/x-python",
   "name": "python",
   "nbconvert_exporter": "python",
   "pygments_lexer": "ipython3",
   "version": "3.9.7"
  }
 },
 "nbformat": 4,
 "nbformat_minor": 5
}
