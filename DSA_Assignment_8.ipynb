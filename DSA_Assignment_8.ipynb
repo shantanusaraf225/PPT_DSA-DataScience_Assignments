{
 "cells": [
  {
   "cell_type": "markdown",
   "id": "1959d0ab",
   "metadata": {},
   "source": [
    "**Question 1**\n",
    "\n",
    "Given two strings s1 and s2, return *the lowest **ASCII** sum of deleted characters to make two strings equal*.\n",
    "\n",
    "**Example 1:**\n",
    "\n",
    "**Input:** s1 = \"sea\", s2 = \"eat\"\n",
    "\n",
    "**Output:** 231\n",
    "\n",
    "**Explanation:** Deleting \"s\" from \"sea\" adds the ASCII value of \"s\" (115) to the sum.\n",
    "\n",
    "Deleting \"t\" from \"eat\" adds 116 to the sum.\n",
    "\n",
    "At the end, both strings are equal, and 115 + 116 = 231 is the minimum sum possible to achieve this."
   ]
  },
  {
   "cell_type": "code",
   "execution_count": 1,
   "id": "374ffea1",
   "metadata": {},
   "outputs": [],
   "source": [
    "# Q1 solution:-"
   ]
  },
  {
   "cell_type": "markdown",
   "id": "1a8a57d8",
   "metadata": {},
   "source": [
    "**Question 2**\n",
    "\n",
    "Given a string s containing only three types of characters: '(', ')' and '*', return true *if* s *is **valid***.\n",
    "\n",
    "The following rules define a **valid** string:\n",
    "\n",
    "- Any left parenthesis '(' must have a corresponding right parenthesis ')'.\n",
    "- Any right parenthesis ')' must have a corresponding left parenthesis '('.\n",
    "- Left parenthesis '(' must go before the corresponding right parenthesis ')'.\n",
    "- '*' could be treated as a single right parenthesis ')' or a single left parenthesis '(' or an empty string \"\".\n",
    "\n",
    "**Example 1:**\n",
    "\n",
    "**Input:** s = \"()\"\n",
    "\n",
    "**Output:**\n",
    "\n",
    "true"
   ]
  },
  {
   "cell_type": "code",
   "execution_count": 25,
   "id": "94c895eb",
   "metadata": {},
   "outputs": [
    {
     "name": "stdout",
     "output_type": "stream",
     "text": [
      "True\n"
     ]
    }
   ],
   "source": [
    "# Q2 solution:-\n",
    "\n",
    "def ValidString(s):\n",
    "    stack = []\n",
    "    \n",
    "    for char in s:\n",
    "        if char == '(' or char == '*':\n",
    "            stack.append(char)\n",
    "        else:  # char == ')'\n",
    "            if stack and stack[-1] == '(':\n",
    "                stack.pop()\n",
    "            elif stack and stack[-1] == '*':\n",
    "                stack.pop()\n",
    "            else:\n",
    "                return False\n",
    "    \n",
    "    # Process any remaining asterisks and opening parentheses\n",
    "    while stack:\n",
    "        if stack[-1] == '(' or stack[-1] == '*':\n",
    "            stack.pop()\n",
    "        else:\n",
    "            return False\n",
    "    \n",
    "    return True\n",
    "\n",
    "# Example\n",
    "s = \"()\"\n",
    "print(ValidString(s))\n"
   ]
  },
  {
   "cell_type": "markdown",
   "id": "9834c10d",
   "metadata": {},
   "source": [
    "**Question 3**\n",
    "\n",
    "Given two strings word1 and word2, return *the minimum number of **steps** required to make* word1 *and* word2 *the same*.\n",
    "\n",
    "In one **step**, you can delete exactly one character in either string.\n",
    "\n",
    "**Example 1:**\n",
    "\n",
    "**Input:** word1 = \"sea\", word2 = \"eat\"\n",
    "\n",
    "**Output:** 2\n",
    "\n",
    "**Explanation:** You need one step to make \"sea\" to \"ea\" and another step to make \"eat\" to \"ea\".\n"
   ]
  },
  {
   "cell_type": "code",
   "execution_count": 58,
   "id": "3eda8fb6",
   "metadata": {},
   "outputs": [
    {
     "name": "stdout",
     "output_type": "stream",
     "text": [
      "2\n"
     ]
    }
   ],
   "source": [
    "# Q3 solution:-\n",
    "\n",
    "def myFunc(word1, word2):\n",
    "    m, n = len(word1), len(word2)\n",
    "    \n",
    "    # Create a 2D table to store the lengths of LCS\n",
    "    dp = [[0] * (n+1) for _ in range(m+1)]\n",
    "    \n",
    "    # Compute the lengths of LCS\n",
    "    for i in range(1, m+1):\n",
    "        for j in range(1, n+1):\n",
    "            if word1[i-1] == word2[j-1]:\n",
    "                dp[i][j] = dp[i-1][j-1] + 1\n",
    "            else:\n",
    "                dp[i][j] = max(dp[i-1][j], dp[i][j-1])\n",
    "    \n",
    "    # Compute the minimum number of steps\n",
    "    lcs_length = dp[m][n]\n",
    "    steps = (m - lcs_length) + (n - lcs_length)\n",
    "    \n",
    "    return steps\n",
    "\n",
    "# Example case\n",
    "word1 = \"sea\"\n",
    "word2 = \"eat\"\n",
    "print(myFunc(word1, word2))\n"
   ]
  },
  {
   "cell_type": "markdown",
   "id": "4a620bb7",
   "metadata": {},
   "source": [
    "**Question 4**\n",
    "\n",
    "You need to construct a binary tree from a string consisting of parenthesis and integers.\n",
    "\n",
    "The whole input represents a binary tree. It contains an integer followed by zero, one or two pairs of parenthesis. The integer represents the root's value and a pair of parenthesis contains a child binary tree with the same structure.\n",
    "You always start to construct the **left** child node of the parent first if it exists.\n",
    "**Input:** s = \"4(2(3)(1))(6(5))\"\n",
    "\n",
    "**Output:** [4,2,6,3,1,5]"
   ]
  },
  {
   "cell_type": "code",
   "execution_count": 60,
   "id": "29fb9dc1",
   "metadata": {},
   "outputs": [],
   "source": [
    "# Q4 solution:-"
   ]
  },
  {
   "cell_type": "markdown",
   "id": "ef39ac8a",
   "metadata": {},
   "source": [
    "**Question 5**\n",
    "\n",
    "Given an array of characters chars, compress it using the following algorithm:\n",
    "\n",
    "Begin with an empty string s. For each group of **consecutive repeating characters** in chars:\n",
    "\n",
    "- If the group's length is 1, append the character to s.\n",
    "- Otherwise, append the character followed by the group's length.\n",
    "\n",
    "The compressed string s **should not be returned separately**, but instead, be stored **in the input character array chars**. Note that group lengths that are 10 or longer will be split into multiple characters in chars.\n",
    "\n",
    "After you are done **modifying the input array,** return *the new length of the array*.\n",
    "\n",
    "You must write an algorithm that uses only constant extra space.\n",
    "\n",
    "**Example 1:**\n",
    "\n",
    "**Input:** chars = [\"a\",\"a\",\"b\",\"b\",\"c\",\"c\",\"c\"]\n",
    "\n",
    "**Output:** Return 6, and the first 6 characters of the input array should be: [\"a\",\"2\",\"b\",\"2\",\"c\",\"3\"]\n",
    "\n",
    "**Explanation:**\n",
    "\n",
    "The groups are \"aa\", \"bb\", and \"ccc\". This compresses to \"a2b2c3\"."
   ]
  },
  {
   "cell_type": "code",
   "execution_count": 90,
   "id": "52904497",
   "metadata": {},
   "outputs": [
    {
     "name": "stdout",
     "output_type": "stream",
     "text": [
      "6\n",
      "['a', '2', 'b', '2', 'c', '3']\n"
     ]
    }
   ],
   "source": [
    "# Q5 solution:-\n",
    "\n",
    "def compress(chars):\n",
    "    read, write = 0, 0  # Pointers for reading and writing\n",
    "    count = 1  # Counter for consecutive repeating characters\n",
    "    \n",
    "    # Iterate through the characters\n",
    "    for i in range(1, len(chars) + 1):\n",
    "        if i < len(chars) and chars[i] == chars[i-1]:\n",
    "            count += 1\n",
    "        else:\n",
    "            chars[write] = chars[read]  # Write the current character\n",
    "            \n",
    "            # If count > 1, write the count as well\n",
    "            if count > 1:\n",
    "                count_str = str(count)\n",
    "                chars[write+1:write+1+len(count_str)] = count_str\n",
    "                write += len(count_str)\n",
    "            \n",
    "            # Move the pointers\n",
    "            read = i\n",
    "            write += 1\n",
    "            count = 1\n",
    "    \n",
    "    return write\n",
    "\n",
    "# Example\n",
    "chars = [\"a\",\"a\",\"b\",\"b\",\"c\",\"c\",\"c\"]\n",
    "new_length = compress(chars)\n",
    "print(new_length)\n",
    "print(chars[:new_length])\n"
   ]
  },
  {
   "cell_type": "markdown",
   "id": "e75ebd6f",
   "metadata": {},
   "source": [
    "**Question 6**\n",
    "\n",
    "Given two strings s and p, return *an array of all the start indices of* p*'s anagrams in* s. You may return the answer in **any order**.\n",
    "\n",
    "An **Anagram** is a word or phrase formed by rearranging the letters of a different word or phrase, typically using all the original letters exactly once.\n",
    "\n",
    "**Example 1:**\n",
    "\n",
    "**Input:** s = \"cbaebabacd\", p = \"abc\"\n",
    "\n",
    "**Output:** [0,6]\n",
    "\n",
    "**Explanation:**\n",
    "\n",
    "The substring with start index = 0 is \"cba\", which is an anagram of \"abc\".\n",
    "\n",
    "The substring with start index = 6 is \"bac\", which is an anagram of \"abc\"."
   ]
  },
  {
   "cell_type": "code",
   "execution_count": 117,
   "id": "c9d66748",
   "metadata": {},
   "outputs": [
    {
     "name": "stdout",
     "output_type": "stream",
     "text": [
      "[0, 6]\n"
     ]
    }
   ],
   "source": [
    "# Q6 solution:-\n",
    "\n",
    "from collections import Counter\n",
    "\n",
    "def findAnagrams(s, p):\n",
    "    result = []  # List to store the start indices of anagrams\n",
    "    p_count = Counter(p)  # Counter for characters in p\n",
    "    window_count = Counter(s[:len(p)])  # Counter for the initial window\n",
    "    \n",
    "    # Check if the initial window is an anagram of p\n",
    "    if window_count == p_count:\n",
    "        result.append(0)\n",
    "    \n",
    "    # Slide the window through the string\n",
    "    for i in range(1, len(s) - len(p) + 1):\n",
    "        left_char = s[i - 1]  # Leftmost character in the window\n",
    "        right_char = s[i + len(p) - 1]  # Rightmost character in the window\n",
    "        \n",
    "        # Update the window count by removing the left character and adding the right character\n",
    "        window_count[left_char] -= 1\n",
    "        if window_count[left_char] == 0:\n",
    "            del window_count[left_char]\n",
    "        window_count[right_char] += 1\n",
    "        \n",
    "        # Check if the current window is an anagram of p\n",
    "        if window_count == p_count:\n",
    "            result.append(i)\n",
    "    \n",
    "    return result\n",
    "\n",
    "\n",
    "# Example\n",
    "s = \"cbaebabacd\"\n",
    "p = \"abc\"\n",
    "indices = findAnagrams(s, p)\n",
    "print(indices)"
   ]
  },
  {
   "cell_type": "markdown",
   "id": "bbcdd055",
   "metadata": {},
   "source": [
    "**Question 7**\n",
    "\n",
    "Given an encoded string, return its decoded string.\n",
    "\n",
    "The encoding rule is: k[encoded_string], where the encoded_string inside the square brackets is being repeated exactly k times. Note that k is guaranteed to be a positive integer.\n",
    "\n",
    "You may assume that the input string is always valid; there are no extra white spaces, square brackets are well-formed, etc. Furthermore, you may assume that the original data does not contain any digits and that digits are only for those repeat numbers, k. For example, there will not be input like 3a or 2[4].\n",
    "\n",
    "The test cases are generated so that the length of the output will never exceed 105.\n",
    "\n",
    "**Example 1:**\n",
    "\n",
    "**Input:** s = \"3[a]2[bc]\"\n",
    "\n",
    "**Output:** \"aaabcbc\""
   ]
  },
  {
   "cell_type": "code",
   "execution_count": 141,
   "id": "0a605a22",
   "metadata": {},
   "outputs": [
    {
     "name": "stdout",
     "output_type": "stream",
     "text": [
      "aaabcbc\n"
     ]
    }
   ],
   "source": [
    "# Q7 solution:-\n",
    "\n",
    "def decodeString(s):\n",
    "    stack = []  # Stack to store characters and repetition counts\n",
    "    current_string = \"\"  # Current string being built\n",
    "    current_count = 0  # Current repetition count\n",
    "    \n",
    "    for char in s:\n",
    "        if char.isdigit():\n",
    "            current_count = current_count * 10 + int(char)  # Accumulate the repetition count\n",
    "        elif char == \"[\":\n",
    "            stack.append((current_string, current_count))  # Push the current string and repetition count to the stack\n",
    "            current_string = \"\"  # Reset the current string\n",
    "            current_count = 0  # Reset the repetition count\n",
    "        elif char == \"]\":\n",
    "            prev_string, prev_count = stack.pop()  # Pop the previous string and repetition count from the stack\n",
    "            current_string = prev_string + current_string * prev_count  # Append the current string to the previous string\n",
    "        else:\n",
    "            current_string += char  # Append the character to the current string\n",
    "    \n",
    "    return current_string\n",
    "\n",
    "# Example\n",
    "s = \"3[a]2[bc]\"\n",
    "decoded_string = decodeString(s)\n",
    "print(decoded_string)\n"
   ]
  },
  {
   "cell_type": "markdown",
   "id": "86d354f6",
   "metadata": {},
   "source": [
    "**Question 8**\n",
    "\n",
    "Given two strings s and goal, return true *if you can swap two letters in* s *so the result is equal to* goal*, otherwise, return* false*.*\n",
    "\n",
    "Swapping letters is defined as taking two indices i and j (0-indexed) such that i != j and swapping the characters at s[i] and s[j].\n",
    "\n",
    "- For example, swapping at indices 0 and 2 in \"abcd\" results in \"cbad\".\n",
    "\n",
    "**Example 1:**\n",
    "\n",
    "**Input:** s = \"ab\", goal = \"ba\"\n",
    "\n",
    "**Output:** true\n",
    "\n",
    "**Explanation:** You can swap s[0] = 'a' and s[1] = 'b' to get \"ba\", which is equal to goal."
   ]
  },
  {
   "cell_type": "code",
   "execution_count": 177,
   "id": "f9d257a4",
   "metadata": {},
   "outputs": [
    {
     "name": "stdout",
     "output_type": "stream",
     "text": [
      "True\n"
     ]
    }
   ],
   "source": [
    "# Q8 solution:-\n",
    "\n",
    "def StringPairs(s, goal):\n",
    "    if len(s) != len(goal):\n",
    "        return False\n",
    "    \n",
    "    if s == goal:\n",
    "        # Check if there are at least two same characters in s\n",
    "        seen = set()\n",
    "        for char in s:\n",
    "            if char in seen:\n",
    "                return True\n",
    "            seen.add(char)\n",
    "        \n",
    "        return False\n",
    "    \n",
    "    diff_positions = []\n",
    "    for i in range(len(s)):\n",
    "        if s[i] != goal[i]:\n",
    "            diff_positions.append(i)\n",
    "            \n",
    "    return len(diff_positions) == 2 and s[diff_positions[0]] == goal[diff_positions[1]] and s[diff_positions[1]] == goal[diff_positions[0]]\n",
    "\n",
    "# Example\n",
    "s = \"ab\"\n",
    "goal = \"ba\"\n",
    "result = StringPairs(s, goal)\n",
    "print(result)"
   ]
  },
  {
   "cell_type": "code",
   "execution_count": null,
   "id": "91d8a0bd",
   "metadata": {},
   "outputs": [],
   "source": []
  }
 ],
 "metadata": {
  "kernelspec": {
   "display_name": "Python 3 (ipykernel)",
   "language": "python",
   "name": "python3"
  },
  "language_info": {
   "codemirror_mode": {
    "name": "ipython",
    "version": 3
   },
   "file_extension": ".py",
   "mimetype": "text/x-python",
   "name": "python",
   "nbconvert_exporter": "python",
   "pygments_lexer": "ipython3",
   "version": "3.9.7"
  }
 },
 "nbformat": 4,
 "nbformat_minor": 5
}
