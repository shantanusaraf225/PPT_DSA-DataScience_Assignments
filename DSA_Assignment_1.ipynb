{
 "cells": [
  {
   "cell_type": "markdown",
   "id": "6bfec731",
   "metadata": {},
   "source": [
    " **Q1.** Given an array of integers nums and an integer target, return indices of the two numbers such that they add up to target.You may assume that each input would have exactly one solution, and you may not use the same element twice.You can return the answer in any order.\n",
    "\n",
    "**Example:**\n",
    "Input: nums = [2,7,11,15], target = 9\n",
    "Output0 [0,1]\n",
    "\n",
    "**Explanation:** Because nums[0] + nums[1] == 9, we return [0, 1]\n",
    "\n",
    "</aside>"
   ]
  },
  {
   "cell_type": "code",
   "execution_count": 2,
   "id": "9f1ca710",
   "metadata": {},
   "outputs": [
    {
     "name": "stdout",
     "output_type": "stream",
     "text": [
      "[0, 1]\n"
     ]
    }
   ],
   "source": [
    "# Q1 solution:-\n",
    "\n",
    "def myfunc(nums, target):\n",
    "    # Create a hash map\n",
    "    num_map = {}\n",
    "    \n",
    "    # Iterate through the array elements\n",
    "    for i, num in enumerate(nums):\n",
    "        a = target - num\n",
    "        \n",
    "        # Check if the complement exists in the hash map\n",
    "        if a in num_map:\n",
    "            return [num_map[a], i]\n",
    "        \n",
    "        # Add the current element and its index to the hash map\n",
    "        num_map[num] = i\n",
    "    \n",
    "    # No solution found\n",
    "    return []\n",
    "\n",
    "# Example \n",
    "nums = [2, 7, 11, 15]\n",
    "target = 9\n",
    "result = myfunc(nums, target)\n",
    "print(result)  \n"
   ]
  },
  {
   "cell_type": "markdown",
   "id": "6b7db970",
   "metadata": {},
   "source": [
    "## \n",
    " **Q2.** Given an integer array nums and an integer val, remove all occurrences of val in nums in-place. The order of the elements may be changed. Then return the number of elements in nums which are not equal to val.\n",
    "\n",
    "Consider the number of elements in nums which are not equal to val be k, to get accepted, you need to do the following things:\n",
    "\n",
    "- Change the array nums such that the first k elements of nums contain the elements which are not equal to val. The remaining elements of nums are not important as well as the size of nums.\n",
    "- Return k.\n",
    "\n",
    "**Example :**\n",
    "Input: nums = [3,2,2,3], val = 3\n",
    "Output: 2, nums = [2,2,_*,_*]\n",
    "\n",
    "**Explanation:** Your function should return k = 2, with the first two elements of nums being 2. It does not matter what you leave beyond the returned k (hence they are underscores)"
   ]
  },
  {
   "cell_type": "code",
   "execution_count": 3,
   "id": "22009dd6",
   "metadata": {},
   "outputs": [
    {
     "name": "stdout",
     "output_type": "stream",
     "text": [
      "2\n",
      "[2, 2, 2, 3]\n"
     ]
    }
   ],
   "source": [
    "# Q2 solution:-\n",
    "\n",
    "def removeElement(nums, val):\n",
    "    i = 0  # Current position in the array\n",
    "    j = 0  # Position to place next non-val element\n",
    "    \n",
    "    while i < len(nums):\n",
    "        if nums[i] != val:\n",
    "            nums[j] = nums[i]\n",
    "            j += 1\n",
    "        i += 1\n",
    "    \n",
    "    return j\n",
    "\n",
    "# Example \n",
    "nums = [3, 2, 2, 3]\n",
    "val = 3\n",
    "count = removeElement(nums, val)\n",
    "print(count)  \n",
    "print(nums)   "
   ]
  },
  {
   "cell_type": "markdown",
   "id": "3b341648",
   "metadata": {},
   "source": [
    "**Q3.** Given a sorted array of distinct integers and a target value, return the index if the target is found. If not, return the index where it would be if it were inserted in order.\n",
    "\n",
    "You must write an algorithm with O(log n) runtime complexity.\n",
    "\n",
    "**Example 1:**\n",
    "Input: nums = [1,3,5,6], target = 5\n",
    "\n",
    "</aside>"
   ]
  },
  {
   "cell_type": "code",
   "execution_count": 8,
   "id": "81e938d0",
   "metadata": {},
   "outputs": [
    {
     "name": "stdout",
     "output_type": "stream",
     "text": [
      "2\n"
     ]
    }
   ],
   "source": [
    "# Q3 Solution:-\n",
    "\n",
    "\n",
    "def searchInsert(nums, target):\n",
    "    left = 0\n",
    "    right = len(nums) - 1\n",
    "    \n",
    "    while left <= right:\n",
    "        mid = (left + right) // 2\n",
    "        \n",
    "        if nums[mid] == target:\n",
    "            return mid\n",
    "        elif nums[mid] < target:\n",
    "            left = mid + 1\n",
    "        else:\n",
    "            right = mid - 1\n",
    "    \n",
    "    return left\n",
    "\n",
    "# Example \n",
    "nums = [1, 3, 5, 6]\n",
    "target = 5\n",
    "index = searchInsert(nums, target)\n",
    "print(index)\n"
   ]
  },
  {
   "cell_type": "markdown",
   "id": "4f1290fd",
   "metadata": {},
   "source": [
    "**Q4.** You are given a large integer represented as an integer array digits, where each digits[i] is the ith digit of the integer. The digits are ordered from most significant to least significant in left-to-right order. The large integer does not contain any leading 0's.\n",
    "\n",
    "Increment the large integer by one and return the resulting array of digits.\n",
    "\n",
    "**Example 1:**\n",
    "Input: digits = [1,2,3]\n",
    "Output: [1,2,4]\n",
    "\n",
    "**Explanation:** The array represents the integer 123.\n",
    "\n",
    "Incrementing by one gives 123 + 1 = 124.\n",
    "Thus, the result should be [1,2,4]."
   ]
  },
  {
   "cell_type": "code",
   "execution_count": 10,
   "id": "a0aef0e9",
   "metadata": {},
   "outputs": [
    {
     "name": "stdout",
     "output_type": "stream",
     "text": [
      "[1, 3, 0]\n"
     ]
    }
   ],
   "source": [
    "# Q4 Solution:-\n",
    "\n",
    "def IncrementFunc(digits):\n",
    "    carry = 1\n",
    "    \n",
    "    for i in range(len(digits) - 1, -1, -1):\n",
    "        sum = digits[i] + carry\n",
    "        digits[i] = sum % 10\n",
    "        carry = sum // 10\n",
    "        \n",
    "        if carry == 0:\n",
    "            break\n",
    "    \n",
    "    if carry != 0:\n",
    "        digits.insert(0, carry)\n",
    "    \n",
    "    return digits\n",
    "\n",
    "# Example \n",
    "digits = [1, 2, 9]\n",
    "result = IncrementFunc(digits)\n",
    "print(result)\n"
   ]
  },
  {
   "cell_type": "markdown",
   "id": "6704e9ca",
   "metadata": {},
   "source": [
    "**Q5.** You are given two integer arrays nums1 and nums2, sorted in non-decreasing order, and two integers m and n, representing the number of elements in nums1 and nums2 respectively.\n",
    "\n",
    "Merge nums1 and nums2 into a single array sorted in non-decreasing order.\n",
    "\n",
    "The final sorted array should not be returned by the function, but instead be stored inside the array nums1. To accommodate this, nums1 has a length of m + n, where the first m elements denote the elements that should be merged, and the last n elements are set to 0 and should be ignored. nums2 has a length of n.\n",
    "\n",
    "**Example 1:**\n",
    "Input: nums1 = [1,2,3,0,0,0], m = 3, nums2 = [2,5,6], n = 3\n",
    "Output: [1,2,2,3,5,6]\n",
    "\n",
    "</aside>"
   ]
  },
  {
   "cell_type": "code",
   "execution_count": 11,
   "id": "a2e31a1f",
   "metadata": {},
   "outputs": [
    {
     "name": "stdout",
     "output_type": "stream",
     "text": [
      "[1, 2, 2, 3, 5, 6]\n"
     ]
    }
   ],
   "source": [
    "# Q5 Solution:-\n",
    "\n",
    "def merge(nums1, m, nums2, n):\n",
    "    p1 = m - 1\n",
    "    p2 = n - 1\n",
    "    p = m + n - 1\n",
    "    \n",
    "    while p1 >= 0 and p2 >= 0:\n",
    "        if nums1[p1] >= nums2[p2]:\n",
    "            nums1[p] = nums1[p1]\n",
    "            p1 -= 1\n",
    "        else:\n",
    "            nums1[p] = nums2[p2]\n",
    "            p2 -= 1\n",
    "        p -= 1\n",
    "    \n",
    "    # Copy remaining elements from nums2 to nums1\n",
    "    nums1[:p2 + 1] = nums2[:p2 + 1]\n",
    "    \n",
    "    return nums1\n",
    "\n",
    "# Example\n",
    "nums1 = [1, 2, 3, 0, 0, 0]\n",
    "m = 3\n",
    "nums2 = [2, 5, 6]\n",
    "n = 3\n",
    "result = merge(nums1, m, nums2, n)\n",
    "print(result)\n"
   ]
  },
  {
   "cell_type": "markdown",
   "id": "d29a1bc7",
   "metadata": {},
   "source": [
    "**Q6.** Given an integer array nums, return true if any value appears at least twice in the array, and return false if every element is distinct.\n",
    "\n",
    "**Example 1:**\n",
    "Input: nums = [1,2,3,1]\n",
    "\n",
    "Output: true\n"
   ]
  },
  {
   "cell_type": "code",
   "execution_count": 12,
   "id": "5b919292",
   "metadata": {},
   "outputs": [
    {
     "name": "stdout",
     "output_type": "stream",
     "text": [
      "True\n"
     ]
    }
   ],
   "source": [
    "# Q6 Solution:-\n",
    "\n",
    "def duplicateNum(nums):\n",
    "    num_set = set()\n",
    "    \n",
    "    for num in nums:\n",
    "        if num in num_set:\n",
    "            return True\n",
    "        num_set.add(num)\n",
    "    \n",
    "    return False\n",
    "\n",
    "# Example\n",
    "nums = [1, 2, 3, 1]\n",
    "result = duplicateNum(nums)\n",
    "print(result)\n"
   ]
  },
  {
   "cell_type": "markdown",
   "id": "869b47b5",
   "metadata": {},
   "source": [
    "**Q7.** Given an integer array nums, move all 0's to the end of it while maintaining the relative order of the nonzero elements.\n",
    "\n",
    "Note that you must do this in-place without making a copy of the array.\n",
    "\n",
    "**Example 1:**\n",
    "Input: nums = [0,1,0,3,12]\n",
    "Output: [1,3,12,0,0]"
   ]
  },
  {
   "cell_type": "code",
   "execution_count": 13,
   "id": "9ed138b6",
   "metadata": {},
   "outputs": [
    {
     "name": "stdout",
     "output_type": "stream",
     "text": [
      "[1, 3, 12, 0, 0]\n"
     ]
    }
   ],
   "source": [
    "# Q7 solution:-\n",
    "\n",
    "def moveZeroes(nums):\n",
    "    j = 0\n",
    "    \n",
    "    for i in range(len(nums)):\n",
    "        if nums[i] != 0:\n",
    "            nums[i], nums[j] = nums[j], nums[i]\n",
    "            j += 1\n",
    "    \n",
    "    # Set the remaining elements after j to 0\n",
    "    for i in range(j, len(nums)):\n",
    "        nums[i] = 0\n",
    "    \n",
    "    return nums\n",
    "\n",
    "# Example\n",
    "nums = [0, 1, 0, 3, 12]\n",
    "result = moveZeroes(nums)\n",
    "print(result)\n"
   ]
  },
  {
   "cell_type": "markdown",
   "id": "99104a9a",
   "metadata": {},
   "source": [
    "**Q8.** You have a set of integers s, which originally contains all the numbers from 1 to n. Unfortunately, due to some error, one of the numbers in s got duplicated to another number in the set, which results in repetition of one number and loss of another number.\n",
    "\n",
    "You are given an integer array nums representing the data status of this set after the error.\n",
    "\n",
    "Find the number that occurs twice and the number that is missing and return them in the form of an array.\n",
    "\n",
    "**Example 1:**\n",
    "Input: nums = [1,2,2,4]\n",
    "Output: [2,3]"
   ]
  },
  {
   "cell_type": "code",
   "execution_count": 14,
   "id": "984be73c",
   "metadata": {},
   "outputs": [
    {
     "name": "stdout",
     "output_type": "stream",
     "text": [
      "[2, 3]\n"
     ]
    }
   ],
   "source": [
    "# Q8 solution:-\n",
    "\n",
    "def errorNums(nums):\n",
    "    num_set = set()\n",
    "    duplicate = -1\n",
    "    \n",
    "    for num in nums:\n",
    "        if num in num_set:\n",
    "            duplicate = num\n",
    "        else:\n",
    "            num_set.add(num)\n",
    "    \n",
    "    missing = -1\n",
    "    for i in range(1, len(nums) + 1):\n",
    "        if i not in num_set:\n",
    "            missing = i\n",
    "            break\n",
    "    \n",
    "    return [duplicate, missing]\n",
    "\n",
    "# Example\n",
    "nums = [1, 2, 2, 4]\n",
    "result = errorNums(nums)\n",
    "print(result)\n"
   ]
  },
  {
   "cell_type": "code",
   "execution_count": null,
   "id": "ff4e6d8f",
   "metadata": {},
   "outputs": [],
   "source": []
  }
 ],
 "metadata": {
  "kernelspec": {
   "display_name": "Python 3 (ipykernel)",
   "language": "python",
   "name": "python3"
  },
  "language_info": {
   "codemirror_mode": {
    "name": "ipython",
    "version": 3
   },
   "file_extension": ".py",
   "mimetype": "text/x-python",
   "name": "python",
   "nbconvert_exporter": "python",
   "pygments_lexer": "ipython3",
   "version": "3.9.7"
  }
 },
 "nbformat": 4,
 "nbformat_minor": 5
}
